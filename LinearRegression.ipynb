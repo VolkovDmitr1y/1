{
  "nbformat": 4,
  "nbformat_minor": 0,
  "metadata": {
    "colab": {
      "provenance": [],
      "authorship_tag": "ABX9TyMPU+daLaKO7c8bycxZqqvy",
      "include_colab_link": true
    },
    "kernelspec": {
      "name": "python3",
      "display_name": "Python 3"
    },
    "language_info": {
      "name": "python"
    }
  },
  "cells": [
    {
      "cell_type": "markdown",
      "metadata": {
        "id": "view-in-github",
        "colab_type": "text"
      },
      "source": [
        "<a href=\"https://colab.research.google.com/github/VolkovDmitr1y/1/blob/main/LinearRegression.ipynb\" target=\"_parent\"><img src=\"https://colab.research.google.com/assets/colab-badge.svg\" alt=\"Open In Colab\"/></a>"
      ]
    },
    {
      "cell_type": "code",
      "execution_count": null,
      "metadata": {
        "colab": {
          "base_uri": "https://localhost:8080/"
        },
        "id": "fqnR3b5uNKab",
        "outputId": "152b802c-0d19-4bc5-be22-4f1923e67f79"
      },
      "outputs": [
        {
          "output_type": "stream",
          "name": "stdout",
          "text": [
            "Requirement already satisfied: stargazer in /usr/local/lib/python3.11/dist-packages (0.0.7)\n",
            "Requirement already satisfied: linearmodels in /usr/local/lib/python3.11/dist-packages (6.1)\n",
            "Requirement already satisfied: numpy<3,>=1.22.3 in /usr/local/lib/python3.11/dist-packages (from linearmodels) (1.26.4)\n",
            "Requirement already satisfied: pandas>=1.4.0 in /usr/local/lib/python3.11/dist-packages (from linearmodels) (2.2.2)\n",
            "Requirement already satisfied: scipy>=1.8.0 in /usr/local/lib/python3.11/dist-packages (from linearmodels) (1.13.1)\n",
            "Requirement already satisfied: statsmodels>=0.13.0 in /usr/local/lib/python3.11/dist-packages (from linearmodels) (0.14.4)\n",
            "Requirement already satisfied: mypy-extensions>=0.4 in /usr/local/lib/python3.11/dist-packages (from linearmodels) (1.0.0)\n",
            "Requirement already satisfied: Cython>=3.0.10 in /usr/local/lib/python3.11/dist-packages (from linearmodels) (3.0.11)\n",
            "Requirement already satisfied: pyhdfe>=0.1 in /usr/local/lib/python3.11/dist-packages (from linearmodels) (0.2.0)\n",
            "Requirement already satisfied: formulaic>=1.0.0 in /usr/local/lib/python3.11/dist-packages (from linearmodels) (1.1.1)\n",
            "Requirement already satisfied: setuptools-scm<9.0.0,>=8.0.0 in /usr/local/lib/python3.11/dist-packages (from setuptools-scm[toml]<9.0.0,>=8.0.0->linearmodels) (8.1.0)\n",
            "Requirement already satisfied: interface-meta>=1.2.0 in /usr/local/lib/python3.11/dist-packages (from formulaic>=1.0.0->linearmodels) (1.3.0)\n",
            "Requirement already satisfied: typing-extensions>=4.2.0 in /usr/local/lib/python3.11/dist-packages (from formulaic>=1.0.0->linearmodels) (4.12.2)\n",
            "Requirement already satisfied: wrapt>=1.0 in /usr/local/lib/python3.11/dist-packages (from formulaic>=1.0.0->linearmodels) (1.17.2)\n",
            "Requirement already satisfied: python-dateutil>=2.8.2 in /usr/local/lib/python3.11/dist-packages (from pandas>=1.4.0->linearmodels) (2.8.2)\n",
            "Requirement already satisfied: pytz>=2020.1 in /usr/local/lib/python3.11/dist-packages (from pandas>=1.4.0->linearmodels) (2024.2)\n",
            "Requirement already satisfied: tzdata>=2022.7 in /usr/local/lib/python3.11/dist-packages (from pandas>=1.4.0->linearmodels) (2025.1)\n",
            "Requirement already satisfied: packaging>=20 in /usr/local/lib/python3.11/dist-packages (from setuptools-scm<9.0.0,>=8.0.0->setuptools-scm[toml]<9.0.0,>=8.0.0->linearmodels) (24.2)\n",
            "Requirement already satisfied: setuptools in /usr/local/lib/python3.11/dist-packages (from setuptools-scm<9.0.0,>=8.0.0->setuptools-scm[toml]<9.0.0,>=8.0.0->linearmodels) (75.1.0)\n",
            "Requirement already satisfied: patsy>=0.5.6 in /usr/local/lib/python3.11/dist-packages (from statsmodels>=0.13.0->linearmodels) (1.0.1)\n",
            "Requirement already satisfied: six>=1.5 in /usr/local/lib/python3.11/dist-packages (from python-dateutil>=2.8.2->pandas>=1.4.0->linearmodels) (1.17.0)\n",
            "Requirement already satisfied: seaborn in /usr/local/lib/python3.11/dist-packages (0.13.2)\n",
            "Requirement already satisfied: numpy!=1.24.0,>=1.20 in /usr/local/lib/python3.11/dist-packages (from seaborn) (1.26.4)\n",
            "Requirement already satisfied: pandas>=1.2 in /usr/local/lib/python3.11/dist-packages (from seaborn) (2.2.2)\n",
            "Requirement already satisfied: matplotlib!=3.6.1,>=3.4 in /usr/local/lib/python3.11/dist-packages (from seaborn) (3.10.0)\n",
            "Requirement already satisfied: contourpy>=1.0.1 in /usr/local/lib/python3.11/dist-packages (from matplotlib!=3.6.1,>=3.4->seaborn) (1.3.1)\n",
            "Requirement already satisfied: cycler>=0.10 in /usr/local/lib/python3.11/dist-packages (from matplotlib!=3.6.1,>=3.4->seaborn) (0.12.1)\n",
            "Requirement already satisfied: fonttools>=4.22.0 in /usr/local/lib/python3.11/dist-packages (from matplotlib!=3.6.1,>=3.4->seaborn) (4.55.4)\n",
            "Requirement already satisfied: kiwisolver>=1.3.1 in /usr/local/lib/python3.11/dist-packages (from matplotlib!=3.6.1,>=3.4->seaborn) (1.4.8)\n",
            "Requirement already satisfied: packaging>=20.0 in /usr/local/lib/python3.11/dist-packages (from matplotlib!=3.6.1,>=3.4->seaborn) (24.2)\n",
            "Requirement already satisfied: pillow>=8 in /usr/local/lib/python3.11/dist-packages (from matplotlib!=3.6.1,>=3.4->seaborn) (11.1.0)\n",
            "Requirement already satisfied: pyparsing>=2.3.1 in /usr/local/lib/python3.11/dist-packages (from matplotlib!=3.6.1,>=3.4->seaborn) (3.2.1)\n",
            "Requirement already satisfied: python-dateutil>=2.7 in /usr/local/lib/python3.11/dist-packages (from matplotlib!=3.6.1,>=3.4->seaborn) (2.8.2)\n",
            "Requirement already satisfied: pytz>=2020.1 in /usr/local/lib/python3.11/dist-packages (from pandas>=1.2->seaborn) (2024.2)\n",
            "Requirement already satisfied: tzdata>=2022.7 in /usr/local/lib/python3.11/dist-packages (from pandas>=1.2->seaborn) (2025.1)\n",
            "Requirement already satisfied: six>=1.5 in /usr/local/lib/python3.11/dist-packages (from python-dateutil>=2.7->matplotlib!=3.6.1,>=3.4->seaborn) (1.17.0)\n"
          ]
        }
      ],
      "source": [
        "# работf с данными\n",
        "import pandas as pd\n",
        "import numpy as np\n",
        "\n",
        "# эконометрические модели\n",
        "import statsmodels.api as sms\n",
        "import statsmodels.formula.api as smf\n",
        "\n",
        "import scipy.stats as stats\n",
        "import statsmodels.stats.diagnostic as sm_diagnostic\n",
        "import statsmodels.stats.stattools as sm_tools\n",
        "import statsmodels.stats.outliers_influence as oi\n",
        "\n",
        "from statsmodels.stats.outliers_influence import variance_inflation_factor as vif\n",
        "\n",
        "# саммари-таблички\n",
        "!pip install stargazer\n",
        "from stargazer.stargazer import Stargazer, LineLocation\n",
        "\n",
        "# для датасета\n",
        "!pip install linearmodels\n",
        "\n",
        "# графическое оформление\n",
        "import matplotlib.dates as mdates\n",
        "from matplotlib import pyplot as plt\n",
        "%matplotlib inline\n",
        "\n",
        "# предупреждения\n",
        "import warnings\n",
        "warnings.filterwarnings(\"ignore\")\n",
        "\n",
        "# графическое оформление\n",
        "!pip install seaborn\n",
        "import seaborn as sb\n"
      ]
    },
    {
      "cell_type": "code",
      "source": [
        "# Данные взяты с Росстата\n",
        "\n",
        "# ВРП- Валовой региональ- ный продукт в 2019 г. , млрд руб\n",
        "# ИОК-инвестиции в основной капитал (в фактически действовавших ценах; миллионов рублей)\n",
        "# ОРТ- оборот розничной торговли (в фактически действовавших ценах; рублей)\n",
        "# СЧН-СРЕДНЕГОДОВАЯ ЧИСЛЕННОСТЬ НАСЕЛЕНИЯ (оценка; тысяч человек)\n",
        "# УЗН-уровень занятости населения (по данным выборочных обследований рабочей силы; в процентах)\n",
        "# НИОКР-ВНУТРЕННИЕ ЗАТРАТЫ НА НАУЧНЫЕ ИССЛЕДОВАНИЯ И РАЗРАБОТКИ\n",
        "# РДН- РЕАЛЬНЫЕ ДЕНЕЖНЫЕ ДОХОДЫ НАСЕЛЕНИЯ (в процентах к предыдущему году)\n",
        "# Н-ПОСТУПЛЕНИЕ НАЛОГОВ, СБОРОВ И ИНЫХ ОБЯЗАТЕЛЬНЫХ ПЛАТЕЖЕЙ (миллионов)\n",
        "# ВСМ-СПЕЦИАЛИСТОВ, МАГИСТРОВ (человек) всего\n",
        "# ГАТ\t-ПЕРЕВОЗКИ ГРУЗОВ И ГРУЗООБОРОТ АВТОМОБИЛЬНОГО ТРАНСПОРТА\n",
        "# ОВНИР\t-ОРГАНИЗАЦИИ, ВЫПОЛНЯВШИЕ НАУЧНЫЕ ИССЛЕДОВАНИЯ И РАЗРАБОТКИ\n",
        "# ЭЗСНГ-суммарное количество объема экспорта в страны зарубежья и СНГ\n",
        "# ОРС- ОБЪЕМ РАБОТ, ВЫПОЛНЕННЫХ ПО ВИДУ ЭКОНОМИЧЕСКОЙ ДЕЯТЕЛЬНОСТИ «СТРОИТЕЛЬСТВО» (в фактически действовавших ценах; миллионов рублей)\n",
        "# ФКП-ФАКТИЧЕСКОЕ КОНЕЧНОЕ потреблениеНА ТЕРРИТОРИИ СУБЪЕКТОВ (в текущих рыночных ценах; расходы домохозяйств , социальных трансфертов в\n",
        "# ВС-ВЫПУСК СПЕЦИАЛИСТОВ (тысяч)\n",
        "# ОГЖ-ОТПРАВЛЕНИЕ ГРУЗОВ ЖЕЛЕЗНОДОРОЖНЫМ ТРАНСПОРТОМ ОБЩЕГО ПОЛЬЗОВАНИЯ\n",
        "# ЗК-ЗАБОЛЕВАЕМОСТЬ на 1000 человек населения ПО ОСНОВНЫМ КЛАССАМ (болезни имунной системы (нарушение кровообращения))\n",
        "# ВРПД-Валовой региональ- ный продукт на душу населения\n",
        "# ЧСПБС-2019/2020 Студенты органи- заций – всего 5.15. ЧИСЛЕННОСТЬ СТУДЕНТОВ, ОБУЧАЮЩИХСЯ ПО ПРОГРАММАМ БАКАЛАВРИАТА, СПЕЦИАЛИТЕТА, МАГИСТРАТУРЫ\n",
        "# (на начало учебного года; тысяч человек)\n",
        "# ПОПБС-ПРИЕМ НА ОБУЧЕНИЕ ПО ПРОГРАММАМ БАКАЛАВРИАТА, СПЕЦИАЛИТЕТА, (тысяч Принято на обу- чение\n",
        "# в организации – всего человек) МАГИСТРАТУРЫ\n",
        "# СДДНМ-. СРЕДНЕДУШЕВЫЕ ДЕНЕЖНЫЕ ДОХОДЫ НАСЕЛЕНИЯ(в месяц; рублей)\n",
        "# РР-РАСПРЕДЕЛЕНИЕ СТРОИТЕЛЬНЫХ РАБОТ, ВЫПОЛНЕННЫХ ОРГАНИЗАЦИЯМИ (в процентах) РАЗЛИЧНЫХ ФОРМ СОБСТВЕННОСТИ  частнаяская\n",
        "# СИОКЗ-СТРУКТУРА ИНВЕСТИЦИЙ В ОСНОВНОЙ КАПИТАЛ ПО ВИДАМ ОСНОВНЫХ  ФОНДОВ (в процентах от общего объема инвестиций) 2019 З дания  (кроме жилых) и сооружения, расходы\n",
        "# ВЮФЛ- ВКЛАДЫ (ДЕПОЗИТЫ) ЮРИДИЧЕСКИХ И ФИЗИЧЕСКИХ ЛИЦ В РУБЛЯХ,  (исходя из места привлечения средств; на начало года; миллионов рублей) ПРИВЛЕЧЕННЫЕ КРЕДИТНЫМИ ОРГАНИЗАЦИЯМИ\n",
        "# ИППТ- ИСПОЛЬЗУЕМЫЕ ПЕРЕДОВЫЕ ПРОИЗВОДСТВЕННЫЕ ТЕХНОЛОГИИ\n",
        "# ЗИДО-ЗАТРАТЫ НА ИННОВАЦИОННУЮ ДЕЯТЕЛЬНОСТЬ ОРГАНИЗАЦИЙ в 2019 г. Млн руб.\n",
        "# NX-ТОВАРНАЯ СТРУКТУРА ЭКСПОРТА И ИМПОРТА в 2019 г. Чистый экспорт\n",
        "# ИТГП-ИНДЕКСЫ ТАРИФОВ НА ГРУЗОВЫЕ ПЕРЕВОЗКИ (декабрь к декабрю предыдущего года; в процентах)\n",
        "# ЖФ- ЖИЛИЩНЫЙ ФОНД1) (общая площадь жилых помещений; миллионов\n",
        "# ЧПО-ЧИСЛО ПРЕДПРИЯТИЙ И ОРГАНИЗАЦИЙ1)(на конец года)\n",
        "# ООЭД-ОБОРОТ ОРГАНИЗАЦИЙ ПО ВИДАМ ЭКОНОМИЧЕСКОЙ ДЕЯТЕЛЬНОСТИ в 2019 г. 1) (миллиардов рублей) обрабатыва ющие производств а\n",
        "# ОКУ-ОБЪЕМ КОММУНАЛЬНЫХ УСЛУГ НАСЕЛЕНИЮ (миллионов рублей)\n"
      ],
      "metadata": {
        "id": "f9dwNEeuNOBi"
      },
      "execution_count": null,
      "outputs": []
    },
    {
      "cell_type": "code",
      "source": [
        "data = pd.read_excel(\"/content/данныеРосстат.xlsx\", header = 0)\n",
        "data.head()"
      ],
      "metadata": {
        "colab": {
          "base_uri": "https://localhost:8080/",
          "height": 342
        },
        "id": "hcIMNCEeNOS1",
        "outputId": "165b8a30-d5d9-4353-be53-e77dab32fafb"
      },
      "execution_count": null,
      "outputs": [
        {
          "output_type": "execute_result",
          "data": {
            "text/plain": [
              "                область     ВРП     ИОК   НИОКР   УЗН  З1000     СЧН    РДН  \\\n",
              "0  Белгородская область   956.0  167367  2631.6  80.5  694.5  1548.3  100.6   \n",
              "1      Брянская область   397.7   63944   666.1  77.9  760.4  1196.3  100.5   \n",
              "2  Владимирская область   537.4   90085  5496.6  81.8  895.2  1362.1  101.9   \n",
              "3   Воронежская область  1002.6  298024  9656.5  78.0  524.5  2326.0  101.1   \n",
              "4    Ивановская область   249.8   37992   865.6  80.0  931.1  1000.7   99.5   \n",
              "\n",
              "          Н     ОРТ  ...   ЗК      ВРПД  ЧСПБС  ПОПБС   СДДН(М)   РСРО  \\\n",
              "0  123934.4  357195  ...  2.1  617426.5  46800  12200     32352   97.2   \n",
              "1   53930.2  270155  ...  2.0  332442.8  23700   5800     28371   90.5   \n",
              "2   84710.5  238711  ...  2.1  394560.3  26400   8000     25358   93.7   \n",
              "3  128249.4  585880  ...  2.3  431037.0  85100  23500     32022   95.5   \n",
              "4   33519.3  178635  ...  1.8  249591.6  24700   6500     25794   97.4   \n",
              "\n",
              "    СИОК(З)    ВЮФЛ   ИППТ     ЗИДО  \n",
              "0      33.9  241282   2536  30653.0  \n",
              "1      36.8  114128   2064   2200.8  \n",
              "2      34.9  192945   7640  14058.5  \n",
              "3      47.9  368532   2795  22435.0  \n",
              "4      28.5  119972   1161    195.3  \n",
              "\n",
              "[5 rows x 27 columns]"
            ],
            "text/html": [
              "\n",
              "  <div id=\"df-17fe6b76-7acd-4397-94a9-b20c05deb45a\" class=\"colab-df-container\">\n",
              "    <div>\n",
              "<style scoped>\n",
              "    .dataframe tbody tr th:only-of-type {\n",
              "        vertical-align: middle;\n",
              "    }\n",
              "\n",
              "    .dataframe tbody tr th {\n",
              "        vertical-align: top;\n",
              "    }\n",
              "\n",
              "    .dataframe thead th {\n",
              "        text-align: right;\n",
              "    }\n",
              "</style>\n",
              "<table border=\"1\" class=\"dataframe\">\n",
              "  <thead>\n",
              "    <tr style=\"text-align: right;\">\n",
              "      <th></th>\n",
              "      <th>область</th>\n",
              "      <th>ВРП</th>\n",
              "      <th>ИОК</th>\n",
              "      <th>НИОКР</th>\n",
              "      <th>УЗН</th>\n",
              "      <th>З1000</th>\n",
              "      <th>СЧН</th>\n",
              "      <th>РДН</th>\n",
              "      <th>Н</th>\n",
              "      <th>ОРТ</th>\n",
              "      <th>...</th>\n",
              "      <th>ЗК</th>\n",
              "      <th>ВРПД</th>\n",
              "      <th>ЧСПБС</th>\n",
              "      <th>ПОПБС</th>\n",
              "      <th>СДДН(М)</th>\n",
              "      <th>РСРО</th>\n",
              "      <th>СИОК(З)</th>\n",
              "      <th>ВЮФЛ</th>\n",
              "      <th>ИППТ</th>\n",
              "      <th>ЗИДО</th>\n",
              "    </tr>\n",
              "  </thead>\n",
              "  <tbody>\n",
              "    <tr>\n",
              "      <th>0</th>\n",
              "      <td>Белгородская область</td>\n",
              "      <td>956.0</td>\n",
              "      <td>167367</td>\n",
              "      <td>2631.6</td>\n",
              "      <td>80.5</td>\n",
              "      <td>694.5</td>\n",
              "      <td>1548.3</td>\n",
              "      <td>100.6</td>\n",
              "      <td>123934.4</td>\n",
              "      <td>357195</td>\n",
              "      <td>...</td>\n",
              "      <td>2.1</td>\n",
              "      <td>617426.5</td>\n",
              "      <td>46800</td>\n",
              "      <td>12200</td>\n",
              "      <td>32352</td>\n",
              "      <td>97.2</td>\n",
              "      <td>33.9</td>\n",
              "      <td>241282</td>\n",
              "      <td>2536</td>\n",
              "      <td>30653.0</td>\n",
              "    </tr>\n",
              "    <tr>\n",
              "      <th>1</th>\n",
              "      <td>Брянская область</td>\n",
              "      <td>397.7</td>\n",
              "      <td>63944</td>\n",
              "      <td>666.1</td>\n",
              "      <td>77.9</td>\n",
              "      <td>760.4</td>\n",
              "      <td>1196.3</td>\n",
              "      <td>100.5</td>\n",
              "      <td>53930.2</td>\n",
              "      <td>270155</td>\n",
              "      <td>...</td>\n",
              "      <td>2.0</td>\n",
              "      <td>332442.8</td>\n",
              "      <td>23700</td>\n",
              "      <td>5800</td>\n",
              "      <td>28371</td>\n",
              "      <td>90.5</td>\n",
              "      <td>36.8</td>\n",
              "      <td>114128</td>\n",
              "      <td>2064</td>\n",
              "      <td>2200.8</td>\n",
              "    </tr>\n",
              "    <tr>\n",
              "      <th>2</th>\n",
              "      <td>Владимирская область</td>\n",
              "      <td>537.4</td>\n",
              "      <td>90085</td>\n",
              "      <td>5496.6</td>\n",
              "      <td>81.8</td>\n",
              "      <td>895.2</td>\n",
              "      <td>1362.1</td>\n",
              "      <td>101.9</td>\n",
              "      <td>84710.5</td>\n",
              "      <td>238711</td>\n",
              "      <td>...</td>\n",
              "      <td>2.1</td>\n",
              "      <td>394560.3</td>\n",
              "      <td>26400</td>\n",
              "      <td>8000</td>\n",
              "      <td>25358</td>\n",
              "      <td>93.7</td>\n",
              "      <td>34.9</td>\n",
              "      <td>192945</td>\n",
              "      <td>7640</td>\n",
              "      <td>14058.5</td>\n",
              "    </tr>\n",
              "    <tr>\n",
              "      <th>3</th>\n",
              "      <td>Воронежская область</td>\n",
              "      <td>1002.6</td>\n",
              "      <td>298024</td>\n",
              "      <td>9656.5</td>\n",
              "      <td>78.0</td>\n",
              "      <td>524.5</td>\n",
              "      <td>2326.0</td>\n",
              "      <td>101.1</td>\n",
              "      <td>128249.4</td>\n",
              "      <td>585880</td>\n",
              "      <td>...</td>\n",
              "      <td>2.3</td>\n",
              "      <td>431037.0</td>\n",
              "      <td>85100</td>\n",
              "      <td>23500</td>\n",
              "      <td>32022</td>\n",
              "      <td>95.5</td>\n",
              "      <td>47.9</td>\n",
              "      <td>368532</td>\n",
              "      <td>2795</td>\n",
              "      <td>22435.0</td>\n",
              "    </tr>\n",
              "    <tr>\n",
              "      <th>4</th>\n",
              "      <td>Ивановская область</td>\n",
              "      <td>249.8</td>\n",
              "      <td>37992</td>\n",
              "      <td>865.6</td>\n",
              "      <td>80.0</td>\n",
              "      <td>931.1</td>\n",
              "      <td>1000.7</td>\n",
              "      <td>99.5</td>\n",
              "      <td>33519.3</td>\n",
              "      <td>178635</td>\n",
              "      <td>...</td>\n",
              "      <td>1.8</td>\n",
              "      <td>249591.6</td>\n",
              "      <td>24700</td>\n",
              "      <td>6500</td>\n",
              "      <td>25794</td>\n",
              "      <td>97.4</td>\n",
              "      <td>28.5</td>\n",
              "      <td>119972</td>\n",
              "      <td>1161</td>\n",
              "      <td>195.3</td>\n",
              "    </tr>\n",
              "  </tbody>\n",
              "</table>\n",
              "<p>5 rows × 27 columns</p>\n",
              "</div>\n",
              "    <div class=\"colab-df-buttons\">\n",
              "\n",
              "  <div class=\"colab-df-container\">\n",
              "    <button class=\"colab-df-convert\" onclick=\"convertToInteractive('df-17fe6b76-7acd-4397-94a9-b20c05deb45a')\"\n",
              "            title=\"Convert this dataframe to an interactive table.\"\n",
              "            style=\"display:none;\">\n",
              "\n",
              "  <svg xmlns=\"http://www.w3.org/2000/svg\" height=\"24px\" viewBox=\"0 -960 960 960\">\n",
              "    <path d=\"M120-120v-720h720v720H120Zm60-500h600v-160H180v160Zm220 220h160v-160H400v160Zm0 220h160v-160H400v160ZM180-400h160v-160H180v160Zm440 0h160v-160H620v160ZM180-180h160v-160H180v160Zm440 0h160v-160H620v160Z\"/>\n",
              "  </svg>\n",
              "    </button>\n",
              "\n",
              "  <style>\n",
              "    .colab-df-container {\n",
              "      display:flex;\n",
              "      gap: 12px;\n",
              "    }\n",
              "\n",
              "    .colab-df-convert {\n",
              "      background-color: #E8F0FE;\n",
              "      border: none;\n",
              "      border-radius: 50%;\n",
              "      cursor: pointer;\n",
              "      display: none;\n",
              "      fill: #1967D2;\n",
              "      height: 32px;\n",
              "      padding: 0 0 0 0;\n",
              "      width: 32px;\n",
              "    }\n",
              "\n",
              "    .colab-df-convert:hover {\n",
              "      background-color: #E2EBFA;\n",
              "      box-shadow: 0px 1px 2px rgba(60, 64, 67, 0.3), 0px 1px 3px 1px rgba(60, 64, 67, 0.15);\n",
              "      fill: #174EA6;\n",
              "    }\n",
              "\n",
              "    .colab-df-buttons div {\n",
              "      margin-bottom: 4px;\n",
              "    }\n",
              "\n",
              "    [theme=dark] .colab-df-convert {\n",
              "      background-color: #3B4455;\n",
              "      fill: #D2E3FC;\n",
              "    }\n",
              "\n",
              "    [theme=dark] .colab-df-convert:hover {\n",
              "      background-color: #434B5C;\n",
              "      box-shadow: 0px 1px 3px 1px rgba(0, 0, 0, 0.15);\n",
              "      filter: drop-shadow(0px 1px 2px rgba(0, 0, 0, 0.3));\n",
              "      fill: #FFFFFF;\n",
              "    }\n",
              "  </style>\n",
              "\n",
              "    <script>\n",
              "      const buttonEl =\n",
              "        document.querySelector('#df-17fe6b76-7acd-4397-94a9-b20c05deb45a button.colab-df-convert');\n",
              "      buttonEl.style.display =\n",
              "        google.colab.kernel.accessAllowed ? 'block' : 'none';\n",
              "\n",
              "      async function convertToInteractive(key) {\n",
              "        const element = document.querySelector('#df-17fe6b76-7acd-4397-94a9-b20c05deb45a');\n",
              "        const dataTable =\n",
              "          await google.colab.kernel.invokeFunction('convertToInteractive',\n",
              "                                                    [key], {});\n",
              "        if (!dataTable) return;\n",
              "\n",
              "        const docLinkHtml = 'Like what you see? Visit the ' +\n",
              "          '<a target=\"_blank\" href=https://colab.research.google.com/notebooks/data_table.ipynb>data table notebook</a>'\n",
              "          + ' to learn more about interactive tables.';\n",
              "        element.innerHTML = '';\n",
              "        dataTable['output_type'] = 'display_data';\n",
              "        await google.colab.output.renderOutput(dataTable, element);\n",
              "        const docLink = document.createElement('div');\n",
              "        docLink.innerHTML = docLinkHtml;\n",
              "        element.appendChild(docLink);\n",
              "      }\n",
              "    </script>\n",
              "  </div>\n",
              "\n",
              "\n",
              "<div id=\"df-b4153de0-9c7e-4490-82ae-c527ecd55caf\">\n",
              "  <button class=\"colab-df-quickchart\" onclick=\"quickchart('df-b4153de0-9c7e-4490-82ae-c527ecd55caf')\"\n",
              "            title=\"Suggest charts\"\n",
              "            style=\"display:none;\">\n",
              "\n",
              "<svg xmlns=\"http://www.w3.org/2000/svg\" height=\"24px\"viewBox=\"0 0 24 24\"\n",
              "     width=\"24px\">\n",
              "    <g>\n",
              "        <path d=\"M19 3H5c-1.1 0-2 .9-2 2v14c0 1.1.9 2 2 2h14c1.1 0 2-.9 2-2V5c0-1.1-.9-2-2-2zM9 17H7v-7h2v7zm4 0h-2V7h2v10zm4 0h-2v-4h2v4z\"/>\n",
              "    </g>\n",
              "</svg>\n",
              "  </button>\n",
              "\n",
              "<style>\n",
              "  .colab-df-quickchart {\n",
              "      --bg-color: #E8F0FE;\n",
              "      --fill-color: #1967D2;\n",
              "      --hover-bg-color: #E2EBFA;\n",
              "      --hover-fill-color: #174EA6;\n",
              "      --disabled-fill-color: #AAA;\n",
              "      --disabled-bg-color: #DDD;\n",
              "  }\n",
              "\n",
              "  [theme=dark] .colab-df-quickchart {\n",
              "      --bg-color: #3B4455;\n",
              "      --fill-color: #D2E3FC;\n",
              "      --hover-bg-color: #434B5C;\n",
              "      --hover-fill-color: #FFFFFF;\n",
              "      --disabled-bg-color: #3B4455;\n",
              "      --disabled-fill-color: #666;\n",
              "  }\n",
              "\n",
              "  .colab-df-quickchart {\n",
              "    background-color: var(--bg-color);\n",
              "    border: none;\n",
              "    border-radius: 50%;\n",
              "    cursor: pointer;\n",
              "    display: none;\n",
              "    fill: var(--fill-color);\n",
              "    height: 32px;\n",
              "    padding: 0;\n",
              "    width: 32px;\n",
              "  }\n",
              "\n",
              "  .colab-df-quickchart:hover {\n",
              "    background-color: var(--hover-bg-color);\n",
              "    box-shadow: 0 1px 2px rgba(60, 64, 67, 0.3), 0 1px 3px 1px rgba(60, 64, 67, 0.15);\n",
              "    fill: var(--button-hover-fill-color);\n",
              "  }\n",
              "\n",
              "  .colab-df-quickchart-complete:disabled,\n",
              "  .colab-df-quickchart-complete:disabled:hover {\n",
              "    background-color: var(--disabled-bg-color);\n",
              "    fill: var(--disabled-fill-color);\n",
              "    box-shadow: none;\n",
              "  }\n",
              "\n",
              "  .colab-df-spinner {\n",
              "    border: 2px solid var(--fill-color);\n",
              "    border-color: transparent;\n",
              "    border-bottom-color: var(--fill-color);\n",
              "    animation:\n",
              "      spin 1s steps(1) infinite;\n",
              "  }\n",
              "\n",
              "  @keyframes spin {\n",
              "    0% {\n",
              "      border-color: transparent;\n",
              "      border-bottom-color: var(--fill-color);\n",
              "      border-left-color: var(--fill-color);\n",
              "    }\n",
              "    20% {\n",
              "      border-color: transparent;\n",
              "      border-left-color: var(--fill-color);\n",
              "      border-top-color: var(--fill-color);\n",
              "    }\n",
              "    30% {\n",
              "      border-color: transparent;\n",
              "      border-left-color: var(--fill-color);\n",
              "      border-top-color: var(--fill-color);\n",
              "      border-right-color: var(--fill-color);\n",
              "    }\n",
              "    40% {\n",
              "      border-color: transparent;\n",
              "      border-right-color: var(--fill-color);\n",
              "      border-top-color: var(--fill-color);\n",
              "    }\n",
              "    60% {\n",
              "      border-color: transparent;\n",
              "      border-right-color: var(--fill-color);\n",
              "    }\n",
              "    80% {\n",
              "      border-color: transparent;\n",
              "      border-right-color: var(--fill-color);\n",
              "      border-bottom-color: var(--fill-color);\n",
              "    }\n",
              "    90% {\n",
              "      border-color: transparent;\n",
              "      border-bottom-color: var(--fill-color);\n",
              "    }\n",
              "  }\n",
              "</style>\n",
              "\n",
              "  <script>\n",
              "    async function quickchart(key) {\n",
              "      const quickchartButtonEl =\n",
              "        document.querySelector('#' + key + ' button');\n",
              "      quickchartButtonEl.disabled = true;  // To prevent multiple clicks.\n",
              "      quickchartButtonEl.classList.add('colab-df-spinner');\n",
              "      try {\n",
              "        const charts = await google.colab.kernel.invokeFunction(\n",
              "            'suggestCharts', [key], {});\n",
              "      } catch (error) {\n",
              "        console.error('Error during call to suggestCharts:', error);\n",
              "      }\n",
              "      quickchartButtonEl.classList.remove('colab-df-spinner');\n",
              "      quickchartButtonEl.classList.add('colab-df-quickchart-complete');\n",
              "    }\n",
              "    (() => {\n",
              "      let quickchartButtonEl =\n",
              "        document.querySelector('#df-b4153de0-9c7e-4490-82ae-c527ecd55caf button');\n",
              "      quickchartButtonEl.style.display =\n",
              "        google.colab.kernel.accessAllowed ? 'block' : 'none';\n",
              "    })();\n",
              "  </script>\n",
              "</div>\n",
              "    </div>\n",
              "  </div>\n"
            ],
            "application/vnd.google.colaboratory.intrinsic+json": {
              "type": "dataframe",
              "variable_name": "data"
            }
          },
          "metadata": {},
          "execution_count": 9
        }
      ]
    },
    {
      "cell_type": "code",
      "source": [
        "data.columns"
      ],
      "metadata": {
        "id": "H6Q_LEujPNIa",
        "colab": {
          "base_uri": "https://localhost:8080/"
        },
        "outputId": "a957b054-86e9-4636-b156-e72a194eae1b"
      },
      "execution_count": null,
      "outputs": [
        {
          "output_type": "execute_result",
          "data": {
            "text/plain": [
              "Index(['область', 'ВРП', 'ИОК', 'НИОКР', 'УЗН', 'З1000', 'СЧН', 'РДН', 'Н',\n",
              "       'ОРТ', 'ГАТ', 'ОВНИР', 'ЭЗСНГ', 'ОРС', 'ФКП', 'ВС', 'ОГЖ', 'ЗК', 'ВРПД',\n",
              "       'ЧСПБС', 'ПОПБС', ' СДДН(М)', ' РСРО', ' СИОК(З)', ' ВЮФЛ', ' ИППТ',\n",
              "       'ЗИДО'],\n",
              "      dtype='object')"
            ]
          },
          "metadata": {},
          "execution_count": 10
        }
      ]
    },
    {
      "cell_type": "code",
      "source": [
        "# для удаления пробелов в названиях столбцов\n",
        "\n",
        "data.columns = map(lambda x: x.strip(), list(data.columns))"
      ],
      "metadata": {
        "id": "NiCsuUUkPXmC"
      },
      "execution_count": null,
      "outputs": []
    },
    {
      "cell_type": "code",
      "source": [
        "data.columns"
      ],
      "metadata": {
        "id": "XaxWrcXZUFru",
        "colab": {
          "base_uri": "https://localhost:8080/"
        },
        "outputId": "51e4447b-4ac6-4be2-dd52-ea83ab9989c4"
      },
      "execution_count": null,
      "outputs": [
        {
          "output_type": "execute_result",
          "data": {
            "text/plain": [
              "Index(['область', 'ВРП', 'ИОК', 'НИОКР', 'УЗН', 'З1000', 'СЧН', 'РДН', 'Н',\n",
              "       'ОРТ', 'ГАТ', 'ОВНИР', 'ЭЗСНГ', 'ОРС', 'ФКП', 'ВС', 'ОГЖ', 'ЗК', 'ВРПД',\n",
              "       'ЧСПБС', 'ПОПБС', 'СДДН(М)', 'РСРО', 'СИОК(З)', 'ВЮФЛ', 'ИППТ', 'ЗИДО'],\n",
              "      dtype='object')"
            ]
          },
          "metadata": {},
          "execution_count": 12
        }
      ]
    },
    {
      "cell_type": "code",
      "source": [
        "import statsmodels.api as sm\n",
        "import statsmodels.formula.api as smf\n",
        "\n",
        "data['СДДНМ2']=np.log(data['СДДН(М)'])\n",
        "data['ЗИДО']=np.log(data['ЗИДО'])\n",
        "data['Log(ВРП)'] = np.log(data['ВРП'])\n",
        "\n",
        "Y=data['Log(ВРП)']\n",
        "X=data[['ГАТ','СДДНМ2','РДН']]\n",
        "model1=sm.OLS(Y,sm.add_constant(X)).fit()\n",
        "print(model1.summary())"
      ],
      "metadata": {
        "colab": {
          "base_uri": "https://localhost:8080/"
        },
        "id": "nCLknGucNOjW",
        "outputId": "05222fd6-45f0-4fa1-f254-c907cadcedd5"
      },
      "execution_count": null,
      "outputs": [
        {
          "output_type": "stream",
          "name": "stdout",
          "text": [
            "                            OLS Regression Results                            \n",
            "==============================================================================\n",
            "Dep. Variable:               Log(ВРП)   R-squared:                       0.618\n",
            "Model:                            OLS   Adj. R-squared:                  0.604\n",
            "Method:                 Least Squares   F-statistic:                     43.68\n",
            "Date:                Mon, 27 Jan 2025   Prob (F-statistic):           6.82e-17\n",
            "Time:                        16:44:37   Log-Likelihood:                -86.661\n",
            "No. Observations:                  85   AIC:                             181.3\n",
            "Df Residuals:                      81   BIC:                             191.1\n",
            "Df Model:                           3                                         \n",
            "Covariance Type:            nonrobust                                         \n",
            "==============================================================================\n",
            "                 coef    std err          t      P>|t|      [0.025      0.975]\n",
            "------------------------------------------------------------------------------\n",
            "const         -9.0628      5.024     -1.804      0.075     -19.058       0.933\n",
            "ГАТ            0.0003   3.53e-05      9.117      0.000       0.000       0.000\n",
            "СДДНМ2         1.0326      0.240      4.302      0.000       0.555       1.510\n",
            "РДН            0.0399      0.053      0.753      0.453      -0.066       0.145\n",
            "==============================================================================\n",
            "Omnibus:                        7.388   Durbin-Watson:                   1.517\n",
            "Prob(Omnibus):                  0.025   Jarque-Bera (JB):                6.796\n",
            "Skew:                          -0.626   Prob(JB):                       0.0334\n",
            "Kurtosis:                       3.592   Cond. No.                     2.10e+05\n",
            "==============================================================================\n",
            "\n",
            "Notes:\n",
            "[1] Standard Errors assume that the covariance matrix of the errors is correctly specified.\n",
            "[2] The condition number is large, 2.1e+05. This might indicate that there are\n",
            "strong multicollinearity or other numerical problems.\n"
          ]
        }
      ]
    },
    {
      "cell_type": "code",
      "source": [
        "fig = plt.figure(num = 2, figsize = (10, 10))\n",
        "\n",
        "# Графически ищем гетероскедастичность:\n",
        "influence = model1.get_influence()\n",
        "st_residuals_lin = influence.resid_studentized_internal\n",
        "\n",
        "# Диаграмма рассеяния остатков относительно\n",
        "ax = fig.add_subplot(2, 2, 1)\n",
        "ax.plot(model1.fittedvalues, st_residuals_lin, linestyle = \"None\", marker = \"o\", markeredgecolor = \"black\")\n",
        "# Гистограмма остатков\n",
        "ax = fig.add_subplot(2, 2, 2)\n",
        "ax.hist(st_residuals_lin, bins = 30, edgecolor = \"black\")\n",
        "# График остатков: Q-Q:\n",
        "ax = fig.add_subplot(2, 1, 2)\n",
        "stats.probplot(st_residuals_lin, dist = \"norm\", plot = ax)\n",
        "\n",
        "plt.show()"
      ],
      "metadata": {
        "id": "NduEvxtwNO5O",
        "colab": {
          "base_uri": "https://localhost:8080/",
          "height": 637
        },
        "outputId": "9d1c69ab-bcb4-43a8-d9d8-e9572c315946"
      },
      "execution_count": null,
      "outputs": [
        {
          "output_type": "display_data",
          "data": {
            "text/plain": [
              "<Figure size 1000x1000 with 3 Axes>"
            ],
            "image/png": "[encoded data removed]"
          },
          "metadata": {}
        }
      ]
    },
    {
      "cell_type": "code",
      "source": [
        "# H0: гомоскедастичность\n",
        "name = ['LM statistic', 'LM p-value', 'F-value', 'F  p-value']\n",
        "bp_test = sm_diagnostic.het_breuschpagan(resid = model1.resid, exog_het = sm.add_constant(X))\n",
        "print(pd.DataFrame([np.round(bp_test, 3)], columns=name))"
      ],
      "metadata": {
        "id": "4Ana3SZ6NPMG",
        "colab": {
          "base_uri": "https://localhost:8080/"
        },
        "outputId": "a4297837-81ca-4487-d907-e864852e3889"
      },
      "execution_count": null,
      "outputs": [
        {
          "output_type": "stream",
          "name": "stdout",
          "text": [
            "   LM statistic  LM p-value  F-value  F  p-value\n",
            "0         8.297        0.04    2.921       0.039\n"
          ]
        }
      ]
    },
    {
      "cell_type": "code",
      "source": [
        "\n",
        "# H0: нормальность остатков\n",
        "norm_tests = [\"Anderson-Darling\",\n",
        "              \"Kolmogorov-Smirnov\",\n",
        "              \"Jarque-Bera\"]\n",
        "\n",
        "norm_test = pd.DataFrame()\n",
        "norm_test[\"p_value\"] = [\n",
        "    sm_diagnostic.normal_ad(x = model1.resid)[1],\n",
        "    sm_diagnostic.kstest_normal(x = model1.resid, dist = \"norm\")[1],\n",
        "    sm_tools.jarque_bera(model1.resid)[1]\n",
        "]\n",
        "norm_test[\"Test\"] = norm_tests\n",
        "print(norm_test)"
      ],
      "metadata": {
        "colab": {
          "base_uri": "https://localhost:8080/"
        },
        "id": "JcyrHtGCx9LZ",
        "outputId": "2705cc3d-39ef-4fec-960b-43c2274e8168"
      },
      "execution_count": null,
      "outputs": [
        {
          "output_type": "stream",
          "name": "stdout",
          "text": [
            "    p_value                Test\n",
            "0  0.117681    Anderson-Darling\n",
            "1  0.114627  Kolmogorov-Smirnov\n",
            "2  0.033435         Jarque-Bera\n"
          ]
        }
      ]
    },
    {
      "cell_type": "code",
      "source": [
        "#VIF-тест\n",
        "pd.Series([vif(X.values, i) for i in range(X.shape[1])], index=X.columns)"
      ],
      "metadata": {
        "colab": {
          "base_uri": "https://localhost:8080/",
          "height": 179
        },
        "id": "rt_j_yYkyXXO",
        "outputId": "eeba21d3-e57f-417c-b502-4074002563de"
      },
      "execution_count": null,
      "outputs": [
        {
          "output_type": "execute_result",
          "data": {
            "text/plain": [
              "ГАТ          2.174909\n",
              "СДДНМ2    1091.791221\n",
              "РДН       1077.136166\n",
              "dtype: float64"
            ],
            "text/html": [
              "<div>\n",
              "<style scoped>\n",
              "    .dataframe tbody tr th:only-of-type {\n",
              "        vertical-align: middle;\n",
              "    }\n",
              "\n",
              "    .dataframe tbody tr th {\n",
              "        vertical-align: top;\n",
              "    }\n",
              "\n",
              "    .dataframe thead th {\n",
              "        text-align: right;\n",
              "    }\n",
              "</style>\n",
              "<table border=\"1\" class=\"dataframe\">\n",
              "  <thead>\n",
              "    <tr style=\"text-align: right;\">\n",
              "      <th></th>\n",
              "      <th>0</th>\n",
              "    </tr>\n",
              "  </thead>\n",
              "  <tbody>\n",
              "    <tr>\n",
              "      <th>ГАТ</th>\n",
              "      <td>2.174909</td>\n",
              "    </tr>\n",
              "    <tr>\n",
              "      <th>СДДНМ2</th>\n",
              "      <td>1091.791221</td>\n",
              "    </tr>\n",
              "    <tr>\n",
              "      <th>РДН</th>\n",
              "      <td>1077.136166</td>\n",
              "    </tr>\n",
              "  </tbody>\n",
              "</table>\n",
              "</div><br><label><b>dtype:</b> float64</label>"
            ]
          },
          "metadata": {},
          "execution_count": 19
        }
      ]
    },
    {
      "cell_type": "code",
      "source": [
        "#Тест Бройша-Пагана.(определение гетероскедостичности/гомоскедостичности) ,H0->гомоскедостичность,\n",
        "#H1-> гомоскедостичность отсутствует.=> гетероскедостичность.\n",
        "#если p > 0,05 , то H0 не отвергаем\n",
        "import statsmodels.formula.api as smf\n",
        "from statsmodels.compat import lzip\n",
        "import statsmodels.stats.api as sms\n",
        "test = sms.het_breuschpagan(resid=model1.resid,exog_het=sm.add_constant(X))\n",
        "names= ['Lagrange multiplier statistic','p-value','f-value ','f p-value']\n",
        "lzip(names,test)\n",
        "#1.Lagrange multiplier statistic\n",
        "#2.p-value\n",
        "#3.f-vulue\n",
        "#4.f p-value"
      ],
      "metadata": {
        "colab": {
          "base_uri": "https://localhost:8080/"
        },
        "id": "y3COfcKpymgs",
        "outputId": "df0a9061-00f1-4d19-ca99-93f4e5955f75"
      },
      "execution_count": null,
      "outputs": [
        {
          "output_type": "execute_result",
          "data": {
            "text/plain": [
              "[('Lagrange multiplier statistic', 8.297294221737351),\n",
              " ('p-value', 0.04025096036315972),\n",
              " ('f-value ', 2.9207176163320847),\n",
              " ('f p-value', 0.03894394890071782)]"
            ]
          },
          "metadata": {},
          "execution_count": 20
        }
      ]
    },
    {
      "cell_type": "code",
      "source": [
        "#Тестирование на пропущенную нелинейность(Тест Рейнбоу)\n",
        "data_rain = data.iloc[np.argsort(data[\"Log(ВРП)\"]), :]\n",
        "factors_rain = data_rain[['Log(ВРП)','ГАТ','СДДНМ2','РДН']]\n",
        "wage_rain = data_rain['Log(ВРП)']\n",
        "\n",
        "res_rain = sm.OLS(wage_rain, factors_rain).fit()\n",
        "rain_t1 = sm_diagnostic.linear_rainbow(res_rain)\n",
        "print(pd.DataFrame(rain_t1, index = [\"F-stat\", \"p-value\"]).T)\n",
        "\n"
      ],
      "metadata": {
        "colab": {
          "base_uri": "https://localhost:8080/"
        },
        "id": "AQLnabTHzCGr",
        "outputId": "f70c4f28-7f13-47d4-fbe0-9e8eda22b8f1"
      },
      "execution_count": null,
      "outputs": [
        {
          "output_type": "stream",
          "name": "stdout",
          "text": [
            "        F-stat       p-value\n",
            "0  6848.412145  1.205418e-63\n"
          ]
        }
      ]
    },
    {
      "cell_type": "code",
      "source": [
        "#Тестирование на пропущенную нелинейность\n",
        "factors_nosq = data[['ГАТ','СДДНМ2','РДН']]\n",
        "\n",
        "wage = data['Log(ВРП)']\n",
        "res_nosq = sm.OLS(wage, factors_nosq).fit()\n",
        "\n",
        "reset_t2 = oi.reset_ramsey(res_nosq, degree = 2)\n",
        "print(reset_t2)\n"
      ],
      "metadata": {
        "colab": {
          "base_uri": "https://localhost:8080/"
        },
        "id": "Qui3pYPgzZw2",
        "outputId": "0907a246-06e8-4331-a31e-423ac51dff4d"
      },
      "execution_count": null,
      "outputs": [
        {
          "output_type": "stream",
          "name": "stdout",
          "text": [
            "<F test: F=0.5359743689569721, p=0.4662189196494112, df_denom=81, df_num=1>\n"
          ]
        }
      ]
    },
    {
      "cell_type": "code",
      "source": [
        "# Модель 2"
      ],
      "metadata": {
        "id": "pdmIQ2Qu0C-Q"
      },
      "execution_count": null,
      "outputs": []
    },
    {
      "cell_type": "code",
      "source": [
        "data = data.drop('область', axis = 1)"
      ],
      "metadata": {
        "id": "CnPq9nsx2hD4"
      },
      "execution_count": null,
      "outputs": []
    },
    {
      "cell_type": "code",
      "source": [
        "data = data.fillna(data.median())"
      ],
      "metadata": {
        "id": "7Y7y9zjF1sSo"
      },
      "execution_count": null,
      "outputs": []
    },
    {
      "cell_type": "code",
      "source": [
        "\n",
        "data['ВСМ2']=np.log(data['ВС'])\n",
        "\n",
        "\n",
        "Y=data['Log(ВРП)']\n",
        "X2=data[['ВСМ2']]\n",
        "model2=sm.OLS(Y,sm.add_constant(X2)).fit()\n",
        "print(model2.summary())"
      ],
      "metadata": {
        "colab": {
          "base_uri": "https://localhost:8080/"
        },
        "id": "fgHiStft0BmY",
        "outputId": "4621271a-cd7d-47ae-9871-ab00d041efa2"
      },
      "execution_count": null,
      "outputs": [
        {
          "output_type": "stream",
          "name": "stdout",
          "text": [
            "                            OLS Regression Results                            \n",
            "==============================================================================\n",
            "Dep. Variable:               Log(ВРП)   R-squared:                       0.556\n",
            "Model:                            OLS   Adj. R-squared:                  0.551\n",
            "Method:                 Least Squares   F-statistic:                     103.9\n",
            "Date:                Mon, 27 Jan 2025   Prob (F-statistic):           2.73e-16\n",
            "Time:                        16:44:58   Log-Likelihood:                -93.061\n",
            "No. Observations:                  85   AIC:                             190.1\n",
            "Df Residuals:                      83   BIC:                             195.0\n",
            "Df Model:                           1                                         \n",
            "Covariance Type:            nonrobust                                         \n",
            "==============================================================================\n",
            "                 coef    std err          t      P>|t|      [0.025      0.975]\n",
            "------------------------------------------------------------------------------\n",
            "const          5.1355      0.142     36.150      0.000       4.853       5.418\n",
            "ВСМ2           0.8213      0.081     10.193      0.000       0.661       0.982\n",
            "==============================================================================\n",
            "Omnibus:                       20.675   Durbin-Watson:                   1.327\n",
            "Prob(Omnibus):                  0.000   Jarque-Bera (JB):               28.620\n",
            "Skew:                           1.087   Prob(JB):                     6.10e-07\n",
            "Kurtosis:                       4.832   Cond. No.                         3.91\n",
            "==============================================================================\n",
            "\n",
            "Notes:\n",
            "[1] Standard Errors assume that the covariance matrix of the errors is correctly specified.\n"
          ]
        }
      ]
    },
    {
      "cell_type": "code",
      "source": [
        "\n",
        "# для модели 2\n",
        "fig = plt.figure(num = 2, figsize = (10, 10))\n",
        "\n",
        "# Графически ищем гетероскедастичность:\n",
        "influence = model2.get_influence()\n",
        "st_residuals_lin = influence.resid_studentized_internal\n",
        "\n",
        "# Диаграмма рассеяния остатков относительно\n",
        "ax = fig.add_subplot(2, 2, 1)\n",
        "ax.plot(model2.fittedvalues, st_residuals_lin, linestyle = \"None\", marker = \"o\", markeredgecolor = \"black\")\n",
        "# Гистограмма остатков\n",
        "ax = fig.add_subplot(2, 2, 2)\n",
        "ax.hist(st_residuals_lin, bins = 30, edgecolor = \"black\")\n",
        "# График остатков: Q-Q:\n",
        "ax = fig.add_subplot(2, 1, 2)\n",
        "stats.probplot(st_residuals_lin, dist = \"norm\", plot = ax)\n",
        "\n",
        "plt.show()"
      ],
      "metadata": {
        "colab": {
          "base_uri": "https://localhost:8080/",
          "height": 637
        },
        "id": "sSNu4RF63fAq",
        "outputId": "bc58fcc5-4093-4a78-f9ee-fbd6e75a6704"
      },
      "execution_count": null,
      "outputs": [
        {
          "output_type": "display_data",
          "data": {
            "text/plain": [
              "<Figure size 1000x1000 with 3 Axes>"
            ],
            "image/png": "[encoded data removed]"
          },
          "metadata": {}
        }
      ]
    },
    {
      "cell_type": "code",
      "source": [
        "# H0: гомоскедастичность\n",
        "name = ['LM statistic', 'LM p-value', 'F-value', 'F  p-value']\n",
        "bp_test = sm_diagnostic.het_breuschpagan(resid = model2.resid, exog_het = sm.add_constant(X2))\n",
        "print(pd.DataFrame([np.round(bp_test, 3)], columns=name))"
      ],
      "metadata": {
        "colab": {
          "base_uri": "https://localhost:8080/"
        },
        "id": "rcjRP_iK3jsz",
        "outputId": "70292189-3142-4d88-e2ef-d93850f093c2"
      },
      "execution_count": null,
      "outputs": [
        {
          "output_type": "stream",
          "name": "stdout",
          "text": [
            "   LM statistic  LM p-value  F-value  F  p-value\n",
            "0         5.835       0.016    6.118       0.015\n"
          ]
        }
      ]
    },
    {
      "cell_type": "code",
      "source": [
        "\n",
        "# H0: нормальность остатков\n",
        "norm_tests = [\"Anderson-Darling\",\n",
        "              \"Kolmogorov-Smirnov\",\n",
        "              \"Jarque-Bera\"]\n",
        "norm_test = pd.DataFrame()\n",
        "norm_test[\"p_value\"] = [\n",
        "    sm_diagnostic.normal_ad(x = model2.resid)[1],\n",
        "    sm_diagnostic.kstest_normal(x = model2.resid, dist = \"norm\")[1],\n",
        "    sm_tools.jarque_bera(model2.resid)[1]\n",
        "]\n",
        "norm_test[\"Test\"] = norm_tests\n",
        "print(norm_test)"
      ],
      "metadata": {
        "colab": {
          "base_uri": "https://localhost:8080/"
        },
        "id": "jZT9xVvI3jq9",
        "outputId": "8d7f988c-5bcf-40e3-e41a-ca7be4d9bc2e"
      },
      "execution_count": null,
      "outputs": [
        {
          "output_type": "stream",
          "name": "stdout",
          "text": [
            "        p_value                Test\n",
            "0  2.304296e-05    Anderson-Darling\n",
            "1  1.000000e-03  Kolmogorov-Smirnov\n",
            "2  6.099385e-07         Jarque-Bera\n"
          ]
        }
      ]
    },
    {
      "cell_type": "code",
      "source": [
        "#Тест Бройша-Пагана.(определение гетероскедостичности/гомоскедостичности) ,H0->гомоскедостичность,\n",
        "#H1-> гомоскедостичность отсутствует.=> гетероскедостичность.\n",
        "#если p > 0,05 , то H0 не отвергаем\n",
        "import statsmodels.formula.api as smf\n",
        "from statsmodels.compat import lzip\n",
        "import statsmodels.stats.api as sms\n",
        "test = sms.het_breuschpagan(resid=model2.resid,exog_het=sm.add_constant(X2))\n",
        "names= ['Lagrange multiplier statistic','p-value','f-value ','f p-value']\n",
        "lzip(names,test)\n",
        "#1.Lagrange multiplier statistic\n",
        "#2.p-value\n",
        "#3.f-vulue\n",
        "#4.f p-value"
      ],
      "metadata": {
        "colab": {
          "base_uri": "https://localhost:8080/"
        },
        "id": "HkZUggPq3jlt",
        "outputId": "e897eaa0-c562-4e61-99ec-efee3f2e4278"
      },
      "execution_count": null,
      "outputs": [
        {
          "output_type": "execute_result",
          "data": {
            "text/plain": [
              "[('Lagrange multiplier statistic', 5.834884808816366),\n",
              " ('p-value', 0.015711438356355613),\n",
              " ('f-value ', 6.117535962174569),\n",
              " ('f p-value', 0.015424264164738246)]"
            ]
          },
          "metadata": {},
          "execution_count": 26
        }
      ]
    },
    {
      "cell_type": "code",
      "source": [
        "\n",
        "data['ИОК2']=np.log(data['ИОК'])\n",
        "\n",
        "Y=data['Log(ВРП)']\n",
        "X3=data[['ИОК2']]\n",
        "model3=sm.OLS(Y,sm.add_constant(X3)).fit()\n",
        "print(model3.summary())"
      ],
      "metadata": {
        "colab": {
          "base_uri": "https://localhost:8080/"
        },
        "id": "EtVQiVZH3ji0",
        "outputId": "b83d1eed-6cf6-408a-c7d9-9ab5b1eace15"
      },
      "execution_count": null,
      "outputs": [
        {
          "output_type": "stream",
          "name": "stdout",
          "text": [
            "                            OLS Regression Results                            \n",
            "==============================================================================\n",
            "Dep. Variable:               Log(ВРП)   R-squared:                       0.919\n",
            "Model:                            OLS   Adj. R-squared:                  0.918\n",
            "Method:                 Least Squares   F-statistic:                     938.6\n",
            "Date:                Mon, 27 Jan 2025   Prob (F-statistic):           5.20e-47\n",
            "Time:                        16:45:11   Log-Likelihood:                -20.871\n",
            "No. Observations:                  85   AIC:                             45.74\n",
            "Df Residuals:                      83   BIC:                             50.63\n",
            "Df Model:                           1                                         \n",
            "Covariance Type:            nonrobust                                         \n",
            "==============================================================================\n",
            "                 coef    std err          t      P>|t|      [0.025      0.975]\n",
            "------------------------------------------------------------------------------\n",
            "const         -5.0875      0.374    -13.587      0.000      -5.832      -4.343\n",
            "ИОК2           0.9775      0.032     30.636      0.000       0.914       1.041\n",
            "==============================================================================\n",
            "Omnibus:                       25.640   Durbin-Watson:                   1.981\n",
            "Prob(Omnibus):                  0.000   Jarque-Bera (JB):               43.592\n",
            "Skew:                          -1.198   Prob(JB):                     3.42e-10\n",
            "Kurtosis:                       5.564   Cond. No.                         130.\n",
            "==============================================================================\n",
            "\n",
            "Notes:\n",
            "[1] Standard Errors assume that the covariance matrix of the errors is correctly specified.\n"
          ]
        }
      ]
    },
    {
      "cell_type": "code",
      "source": [
        "\n",
        "# для модели 2\n",
        "fig = plt.figure(num = 2, figsize = (10, 10))\n",
        "\n",
        "# Графически ищем гетероскедастичность:\n",
        "influence = model3.get_influence()\n",
        "st_residuals_lin = influence.resid_studentized_internal\n",
        "\n",
        "# Диаграмма рассеяния остатков относительно\n",
        "ax = fig.add_subplot(2, 2, 1)\n",
        "ax.plot(model3.fittedvalues, st_residuals_lin, linestyle = \"None\", marker = \"o\", markeredgecolor = \"black\")\n",
        "# Гистограмма остатков\n",
        "ax = fig.add_subplot(2, 2, 2)\n",
        "ax.hist(st_residuals_lin, bins = 30, edgecolor = \"black\")\n",
        "# График остатков: Q-Q:\n",
        "ax = fig.add_subplot(2, 1, 2)\n",
        "stats.probplot(st_residuals_lin, dist = \"norm\", plot = ax)\n",
        "\n",
        "plt.show()"
      ],
      "metadata": {
        "colab": {
          "base_uri": "https://localhost:8080/",
          "height": 637
        },
        "id": "PsuQBNoR3jfy",
        "outputId": "23d38fdb-afe4-4b49-b7b5-31e7fb04509e"
      },
      "execution_count": null,
      "outputs": [
        {
          "output_type": "display_data",
          "data": {
            "text/plain": [
              "<Figure size 1000x1000 with 3 Axes>"
            ],
            "image/png": "[encoded data removed]"
          },
          "metadata": {}
        }
      ]
    },
    {
      "cell_type": "code",
      "source": [
        "\n",
        "# H0: гомоскедастичность\n",
        "name = ['LM statistic', 'LM p-value', 'F-value', 'F  p-value']\n",
        "bp_test = sm_diagnostic.het_breuschpagan(resid = model3.resid, exog_het = sm.add_constant(X3))\n",
        "print(pd.DataFrame([np.round(bp_test, 3)], columns=name))"
      ],
      "metadata": {
        "colab": {
          "base_uri": "https://localhost:8080/"
        },
        "id": "ch9PoIiq3jW7",
        "outputId": "01a44ece-4cc4-4c2c-8699-aea0ea753f89"
      },
      "execution_count": null,
      "outputs": [
        {
          "output_type": "stream",
          "name": "stdout",
          "text": [
            "   LM statistic  LM p-value  F-value  F  p-value\n",
            "0         0.357        0.55     0.35       0.556\n"
          ]
        }
      ]
    },
    {
      "cell_type": "code",
      "source": [
        "\n",
        "# H0: нормальность остатков\n",
        "norm_tests = [\"Anderson-Darling\",\n",
        "              \"Kolmogorov-Smirnov\",\n",
        "              \"Jarque-Bera\"]\n",
        "norm_test = pd.DataFrame()\n",
        "norm_test[\"p_value\"] = [\n",
        "    sm_diagnostic.normal_ad(x = model3.resid)[1],\n",
        "    sm_diagnostic.kstest_normal(x = model3.resid, dist = \"norm\")[1],\n",
        "    sm_tools.jarque_bera(model3.resid)[1]\n",
        "]\n",
        "norm_test[\"Test\"] = norm_tests\n",
        "print(norm_test)"
      ],
      "metadata": {
        "colab": {
          "base_uri": "https://localhost:8080/"
        },
        "id": "JH2TmoGe4van",
        "outputId": "19cca108-d655-4dce-eaf2-5336d6153fd5"
      },
      "execution_count": null,
      "outputs": [
        {
          "output_type": "stream",
          "name": "stdout",
          "text": [
            "        p_value                Test\n",
            "0  3.364884e-04    Anderson-Darling\n",
            "1  1.000000e-03  Kolmogorov-Smirnov\n",
            "2  3.419928e-10         Jarque-Bera\n"
          ]
        }
      ]
    },
    {
      "cell_type": "code",
      "source": [
        "\n",
        "#Тест Бройша-Пагана.(определение гетероскедостичности/гомоскедостичности) ,H0->гомоскедостичность,\n",
        "#H1-> гомоскедостичность отсутствует.=> гетероскедостичность.\n",
        "#если p > 0,05 , то H0 не отвергаем\n",
        "import statsmodels.formula.api as smf\n",
        "from statsmodels.compat import lzip\n",
        "import statsmodels.stats.api as sms\n",
        "test = sms.het_breuschpagan(resid=model3.resid,exog_het=sm.add_constant(X3))\n",
        "names= ['Lagrange multiplier statistic','p-value','f-value ','f p-value']\n",
        "lzip(names,test)\n",
        "#1.Lagrange multiplier statistic\n",
        "#2.p-value\n",
        "#3.f-vulue\n",
        "#4.f p-value"
      ],
      "metadata": {
        "colab": {
          "base_uri": "https://localhost:8080/"
        },
        "id": "c3NAAnmU5AZB",
        "outputId": "6a5b3117-a9ab-4351-a919-7680e45b71b4"
      },
      "execution_count": null,
      "outputs": [
        {
          "output_type": "execute_result",
          "data": {
            "text/plain": [
              "[('Lagrange multiplier statistic', 0.35674474381455434),\n",
              " ('p-value', 0.5503197032705198),\n",
              " ('f-value ', 0.3498189388745683),\n",
              " ('f p-value', 0.5558231169345325)]"
            ]
          },
          "metadata": {},
          "execution_count": 31
        }
      ]
    },
    {
      "cell_type": "code",
      "source": [
        "# Общие результаты\n"
      ],
      "metadata": {
        "id": "f_CFIHD65FCh"
      },
      "execution_count": null,
      "outputs": []
    },
    {
      "cell_type": "code",
      "source": [
        "Stargazer([model1, model2,model3])"
      ],
      "metadata": {
        "colab": {
          "base_uri": "https://localhost:8080/",
          "height": 493
        },
        "id": "39byNI5r5HcR",
        "outputId": "090aa7d7-9bd5-4ea9-d38b-752032c8c879"
      },
      "execution_count": null,
      "outputs": [
        {
          "output_type": "execute_result",
          "data": {
            "text/plain": [
              "<stargazer.stargazer.Stargazer at 0x7c79f898e510>"
            ],
            "text/html": [
              "<table style=\"text-align:center\"><tr><td colspan=\"4\" style=\"border-bottom: 1px solid black\"></td></tr>\n",
              "<tr><td style=\"text-align:left\"></td><td colspan=\"3\"><em>Dependent variable: Log(ВРП)</em></td></tr><tr><td style=\"text-align:left\"></td><tr><td style=\"text-align:left\"></td><td>(1)</td><td>(2)</td><td>(3)</td></tr>\n",
              "<tr><td colspan=\"4\" style=\"border-bottom: 1px solid black\"></td></tr>\n",
              "\n",
              "<tr><td style=\"text-align:left\">const</td><td>-9.063<sup>*</sup></td><td>5.136<sup>***</sup></td><td>-5.087<sup>***</sup></td></tr>\n",
              "<tr><td style=\"text-align:left\"></td><td>(5.024)</td><td>(0.142)</td><td>(0.374)</td></tr>\n",
              "<tr><td style=\"text-align:left\">ВСМ2</td><td></td><td>0.821<sup>***</sup></td><td></td></tr>\n",
              "<tr><td style=\"text-align:left\"></td><td></td><td>(0.081)</td><td></td></tr>\n",
              "<tr><td style=\"text-align:left\">ГАТ</td><td>0.000<sup>***</sup></td><td></td><td></td></tr>\n",
              "<tr><td style=\"text-align:left\"></td><td>(0.000)</td><td></td><td></td></tr>\n",
              "<tr><td style=\"text-align:left\">ИОК2</td><td></td><td></td><td>0.978<sup>***</sup></td></tr>\n",
              "<tr><td style=\"text-align:left\"></td><td></td><td></td><td>(0.032)</td></tr>\n",
              "<tr><td style=\"text-align:left\">РДН</td><td>0.040<sup></sup></td><td></td><td></td></tr>\n",
              "<tr><td style=\"text-align:left\"></td><td>(0.053)</td><td></td><td></td></tr>\n",
              "<tr><td style=\"text-align:left\">СДДНМ2</td><td>1.033<sup>***</sup></td><td></td><td></td></tr>\n",
              "<tr><td style=\"text-align:left\"></td><td>(0.240)</td><td></td><td></td></tr>\n",
              "\n",
              "<td colspan=\"4\" style=\"border-bottom: 1px solid black\"></td></tr>\n",
              "<tr><td style=\"text-align: left\">Observations</td><td>85</td><td>85</td><td>85</td></tr><tr><td style=\"text-align: left\">R<sup>2</sup></td><td>0.618</td><td>0.556</td><td>0.919</td></tr><tr><td style=\"text-align: left\">Adjusted R<sup>2</sup></td><td>0.604</td><td>0.551</td><td>0.918</td></tr><tr><td style=\"text-align: left\">Residual Std. Error</td><td>0.687 (df=81)</td><td>0.732 (df=83)</td><td>0.313 (df=83)</td></tr><tr><td style=\"text-align: left\">F Statistic</td><td>43.676<sup>***</sup> (df=3; 81)</td><td>103.889<sup>***</sup> (df=1; 83)</td><td>938.572<sup>***</sup> (df=1; 83)</td></tr>\n",
              "<tr><td colspan=\"4\" style=\"border-bottom: 1px solid black\"></td></tr><tr><td style=\"text-align: left\">Note:</td><td colspan=\"3\" style=\"text-align: right\"><sup>*</sup>p&lt;0.1; <sup>**</sup>p&lt;0.05; <sup>***</sup>p&lt;0.01</td></tr></table>"
            ]
          },
          "metadata": {},
          "execution_count": 32
        }
      ]
    },
    {
      "cell_type": "code",
      "source": [
        "# Обучение модели"
      ],
      "metadata": {
        "id": "p1-i4Ybk7NlE"
      },
      "execution_count": null,
      "outputs": []
    },
    {
      "cell_type": "code",
      "source": [
        "!pip install scikit-learn"
      ],
      "metadata": {
        "colab": {
          "base_uri": "https://localhost:8080/"
        },
        "id": "pvnTRmi_pOqK",
        "outputId": "ad102d54-e002-4b56-ff77-3f219d27d556"
      },
      "execution_count": null,
      "outputs": [
        {
          "output_type": "stream",
          "name": "stdout",
          "text": [
            "Requirement already satisfied: scikit-learn in /usr/local/lib/python3.11/dist-packages (1.6.1)\n",
            "Requirement already satisfied: numpy>=1.19.5 in /usr/local/lib/python3.11/dist-packages (from scikit-learn) (1.26.4)\n",
            "Requirement already satisfied: scipy>=1.6.0 in /usr/local/lib/python3.11/dist-packages (from scikit-learn) (1.13.1)\n",
            "Requirement already satisfied: joblib>=1.2.0 in /usr/local/lib/python3.11/dist-packages (from scikit-learn) (1.4.2)\n",
            "Requirement already satisfied: threadpoolctl>=3.1.0 in /usr/local/lib/python3.11/dist-packages (from scikit-learn) (3.5.0)\n"
          ]
        }
      ]
    },
    {
      "cell_type": "code",
      "source": [
        "from sklearn.model_selection import train_test_split"
      ],
      "metadata": {
        "id": "_LXl7_GXpOm6"
      },
      "execution_count": null,
      "outputs": []
    },
    {
      "cell_type": "code",
      "source": [
        "data.shape"
      ],
      "metadata": {
        "colab": {
          "base_uri": "https://localhost:8080/"
        },
        "id": "zn7pyrGJqJx1",
        "outputId": "ab58d02b-bd06-47f9-e02b-4f22152d4e01"
      },
      "execution_count": null,
      "outputs": [
        {
          "output_type": "execute_result",
          "data": {
            "text/plain": [
              "(85, 31)"
            ]
          },
          "metadata": {},
          "execution_count": 35
        }
      ]
    },
    {
      "cell_type": "code",
      "source": [
        "X_train, X_test, y_train, y_test = train_test_split( data[['ИОК2']],\n",
        "                                                    data['Log(ВРП)'], test_size=0.5, random_state=85)"
      ],
      "metadata": {
        "id": "aoaHDFtxpOhS"
      },
      "execution_count": null,
      "outputs": []
    },
    {
      "cell_type": "code",
      "source": [
        "from sklearn.linear_model import  LinearRegression"
      ],
      "metadata": {
        "id": "lsRvK1gepOVk"
      },
      "execution_count": null,
      "outputs": []
    },
    {
      "cell_type": "code",
      "source": [
        "model = LinearRegression()"
      ],
      "metadata": {
        "id": "vk2j0WH_pXOV"
      },
      "execution_count": null,
      "outputs": []
    },
    {
      "cell_type": "code",
      "source": [
        "model.fit(X_train, y_train)"
      ],
      "metadata": {
        "colab": {
          "base_uri": "https://localhost:8080/",
          "height": 80
        },
        "id": "2fOpzkIlpXLr",
        "outputId": "9bd51fa4-795c-4859-ef1b-f8765fa2b582"
      },
      "execution_count": null,
      "outputs": [
        {
          "output_type": "execute_result",
          "data": {
            "text/plain": [
              "LinearRegression()"
            ],
            "text/html": [
              "<style>#sk-container-id-4 {\n",
              "  /* Definition of color scheme common for light and dark mode */\n",
              "  --sklearn-color-text: #000;\n",
              "  --sklearn-color-text-muted: #666;\n",
              "  --sklearn-color-line: gray;\n",
              "  /* Definition of color scheme for unfitted estimators */\n",
              "  --sklearn-color-unfitted-level-0: #fff5e6;\n",
              "  --sklearn-color-unfitted-level-1: #f6e4d2;\n",
              "  --sklearn-color-unfitted-level-2: #ffe0b3;\n",
              "  --sklearn-color-unfitted-level-3: chocolate;\n",
              "  /* Definition of color scheme for fitted estimators */\n",
              "  --sklearn-color-fitted-level-0: #f0f8ff;\n",
              "  --sklearn-color-fitted-level-1: #d4ebff;\n",
              "  --sklearn-color-fitted-level-2: #b3dbfd;\n",
              "  --sklearn-color-fitted-level-3: cornflowerblue;\n",
              "\n",
              "  /* Specific color for light theme */\n",
              "  --sklearn-color-text-on-default-background: var(--sg-text-color, var(--theme-code-foreground, var(--jp-content-font-color1, black)));\n",
              "  --sklearn-color-background: var(--sg-background-color, var(--theme-background, var(--jp-layout-color0, white)));\n",
              "  --sklearn-color-border-box: var(--sg-text-color, var(--theme-code-foreground, var(--jp-content-font-color1, black)));\n",
              "  --sklearn-color-icon: #696969;\n",
              "\n",
              "  @media (prefers-color-scheme: dark) {\n",
              "    /* Redefinition of color scheme for dark theme */\n",
              "    --sklearn-color-text-on-default-background: var(--sg-text-color, var(--theme-code-foreground, var(--jp-content-font-color1, white)));\n",
              "    --sklearn-color-background: var(--sg-background-color, var(--theme-background, var(--jp-layout-color0, #111)));\n",
              "    --sklearn-color-border-box: var(--sg-text-color, var(--theme-code-foreground, var(--jp-content-font-color1, white)));\n",
              "    --sklearn-color-icon: #878787;\n",
              "  }\n",
              "}\n",
              "\n",
              "#sk-container-id-4 {\n",
              "  color: var(--sklearn-color-text);\n",
              "}\n",
              "\n",
              "#sk-container-id-4 pre {\n",
              "  padding: 0;\n",
              "}\n",
              "\n",
              "#sk-container-id-4 input.sk-hidden--visually {\n",
              "  border: 0;\n",
              "  clip: rect(1px 1px 1px 1px);\n",
              "  clip: rect(1px, 1px, 1px, 1px);\n",
              "  height: 1px;\n",
              "  margin: -1px;\n",
              "  overflow: hidden;\n",
              "  padding: 0;\n",
              "  position: absolute;\n",
              "  width: 1px;\n",
              "}\n",
              "\n",
              "#sk-container-id-4 div.sk-dashed-wrapped {\n",
              "  border: 1px dashed var(--sklearn-color-line);\n",
              "  margin: 0 0.4em 0.5em 0.4em;\n",
              "  box-sizing: border-box;\n",
              "  padding-bottom: 0.4em;\n",
              "  background-color: var(--sklearn-color-background);\n",
              "}\n",
              "\n",
              "#sk-container-id-4 div.sk-container {\n",
              "  /* jupyter's `normalize.less` sets `[hidden] { display: none; }`\n",
              "     but bootstrap.min.css set `[hidden] { display: none !important; }`\n",
              "     so we also need the `!important` here to be able to override the\n",
              "     default hidden behavior on the sphinx rendered scikit-learn.org.\n",
              "     See: https://github.com/scikit-learn/scikit-learn/issues/21755 */\n",
              "  display: inline-block !important;\n",
              "  position: relative;\n",
              "}\n",
              "\n",
              "#sk-container-id-4 div.sk-text-repr-fallback {\n",
              "  display: none;\n",
              "}\n",
              "\n",
              "div.sk-parallel-item,\n",
              "div.sk-serial,\n",
              "div.sk-item {\n",
              "  /* draw centered vertical line to link estimators */\n",
              "  background-image: linear-gradient(var(--sklearn-color-text-on-default-background), var(--sklearn-color-text-on-default-background));\n",
              "  background-size: 2px 100%;\n",
              "  background-repeat: no-repeat;\n",
              "  background-position: center center;\n",
              "}\n",
              "\n",
              "/* Parallel-specific style estimator block */\n",
              "\n",
              "#sk-container-id-4 div.sk-parallel-item::after {\n",
              "  content: \"\";\n",
              "  width: 100%;\n",
              "  border-bottom: 2px solid var(--sklearn-color-text-on-default-background);\n",
              "  flex-grow: 1;\n",
              "}\n",
              "\n",
              "#sk-container-id-4 div.sk-parallel {\n",
              "  display: flex;\n",
              "  align-items: stretch;\n",
              "  justify-content: center;\n",
              "  background-color: var(--sklearn-color-background);\n",
              "  position: relative;\n",
              "}\n",
              "\n",
              "#sk-container-id-4 div.sk-parallel-item {\n",
              "  display: flex;\n",
              "  flex-direction: column;\n",
              "}\n",
              "\n",
              "#sk-container-id-4 div.sk-parallel-item:first-child::after {\n",
              "  align-self: flex-end;\n",
              "  width: 50%;\n",
              "}\n",
              "\n",
              "#sk-container-id-4 div.sk-parallel-item:last-child::after {\n",
              "  align-self: flex-start;\n",
              "  width: 50%;\n",
              "}\n",
              "\n",
              "#sk-container-id-4 div.sk-parallel-item:only-child::after {\n",
              "  width: 0;\n",
              "}\n",
              "\n",
              "/* Serial-specific style estimator block */\n",
              "\n",
              "#sk-container-id-4 div.sk-serial {\n",
              "  display: flex;\n",
              "  flex-direction: column;\n",
              "  align-items: center;\n",
              "  background-color: var(--sklearn-color-background);\n",
              "  padding-right: 1em;\n",
              "  padding-left: 1em;\n",
              "}\n",
              "\n",
              "\n",
              "/* Toggleable style: style used for estimator/Pipeline/ColumnTransformer box that is\n",
              "clickable and can be expanded/collapsed.\n",
              "- Pipeline and ColumnTransformer use this feature and define the default style\n",
              "- Estimators will overwrite some part of the style using the `sk-estimator` class\n",
              "*/\n",
              "\n",
              "/* Pipeline and ColumnTransformer style (default) */\n",
              "\n",
              "#sk-container-id-4 div.sk-toggleable {\n",
              "  /* Default theme specific background. It is overwritten whether we have a\n",
              "  specific estimator or a Pipeline/ColumnTransformer */\n",
              "  background-color: var(--sklearn-color-background);\n",
              "}\n",
              "\n",
              "/* Toggleable label */\n",
              "#sk-container-id-4 label.sk-toggleable__label {\n",
              "  cursor: pointer;\n",
              "  display: flex;\n",
              "  width: 100%;\n",
              "  margin-bottom: 0;\n",
              "  padding: 0.5em;\n",
              "  box-sizing: border-box;\n",
              "  text-align: center;\n",
              "  align-items: start;\n",
              "  justify-content: space-between;\n",
              "  gap: 0.5em;\n",
              "}\n",
              "\n",
              "#sk-container-id-4 label.sk-toggleable__label .caption {\n",
              "  font-size: 0.6rem;\n",
              "  font-weight: lighter;\n",
              "  color: var(--sklearn-color-text-muted);\n",
              "}\n",
              "\n",
              "#sk-container-id-4 label.sk-toggleable__label-arrow:before {\n",
              "  /* Arrow on the left of the label */\n",
              "  content: \"▸\";\n",
              "  float: left;\n",
              "  margin-right: 0.25em;\n",
              "  color: var(--sklearn-color-icon);\n",
              "}\n",
              "\n",
              "#sk-container-id-4 label.sk-toggleable__label-arrow:hover:before {\n",
              "  color: var(--sklearn-color-text);\n",
              "}\n",
              "\n",
              "/* Toggleable content - dropdown */\n",
              "\n",
              "#sk-container-id-4 div.sk-toggleable__content {\n",
              "  max-height: 0;\n",
              "  max-width: 0;\n",
              "  overflow: hidden;\n",
              "  text-align: left;\n",
              "  /* unfitted */\n",
              "  background-color: var(--sklearn-color-unfitted-level-0);\n",
              "}\n",
              "\n",
              "#sk-container-id-4 div.sk-toggleable__content.fitted {\n",
              "  /* fitted */\n",
              "  background-color: var(--sklearn-color-fitted-level-0);\n",
              "}\n",
              "\n",
              "#sk-container-id-4 div.sk-toggleable__content pre {\n",
              "  margin: 0.2em;\n",
              "  border-radius: 0.25em;\n",
              "  color: var(--sklearn-color-text);\n",
              "  /* unfitted */\n",
              "  background-color: var(--sklearn-color-unfitted-level-0);\n",
              "}\n",
              "\n",
              "#sk-container-id-4 div.sk-toggleable__content.fitted pre {\n",
              "  /* unfitted */\n",
              "  background-color: var(--sklearn-color-fitted-level-0);\n",
              "}\n",
              "\n",
              "#sk-container-id-4 input.sk-toggleable__control:checked~div.sk-toggleable__content {\n",
              "  /* Expand drop-down */\n",
              "  max-height: 200px;\n",
              "  max-width: 100%;\n",
              "  overflow: auto;\n",
              "}\n",
              "\n",
              "#sk-container-id-4 input.sk-toggleable__control:checked~label.sk-toggleable__label-arrow:before {\n",
              "  content: \"▾\";\n",
              "}\n",
              "\n",
              "/* Pipeline/ColumnTransformer-specific style */\n",
              "\n",
              "#sk-container-id-4 div.sk-label input.sk-toggleable__control:checked~label.sk-toggleable__label {\n",
              "  color: var(--sklearn-color-text);\n",
              "  background-color: var(--sklearn-color-unfitted-level-2);\n",
              "}\n",
              "\n",
              "#sk-container-id-4 div.sk-label.fitted input.sk-toggleable__control:checked~label.sk-toggleable__label {\n",
              "  background-color: var(--sklearn-color-fitted-level-2);\n",
              "}\n",
              "\n",
              "/* Estimator-specific style */\n",
              "\n",
              "/* Colorize estimator box */\n",
              "#sk-container-id-4 div.sk-estimator input.sk-toggleable__control:checked~label.sk-toggleable__label {\n",
              "  /* unfitted */\n",
              "  background-color: var(--sklearn-color-unfitted-level-2);\n",
              "}\n",
              "\n",
              "#sk-container-id-4 div.sk-estimator.fitted input.sk-toggleable__control:checked~label.sk-toggleable__label {\n",
              "  /* fitted */\n",
              "  background-color: var(--sklearn-color-fitted-level-2);\n",
              "}\n",
              "\n",
              "#sk-container-id-4 div.sk-label label.sk-toggleable__label,\n",
              "#sk-container-id-4 div.sk-label label {\n",
              "  /* The background is the default theme color */\n",
              "  color: var(--sklearn-color-text-on-default-background);\n",
              "}\n",
              "\n",
              "/* On hover, darken the color of the background */\n",
              "#sk-container-id-4 div.sk-label:hover label.sk-toggleable__label {\n",
              "  color: var(--sklearn-color-text);\n",
              "  background-color: var(--sklearn-color-unfitted-level-2);\n",
              "}\n",
              "\n",
              "/* Label box, darken color on hover, fitted */\n",
              "#sk-container-id-4 div.sk-label.fitted:hover label.sk-toggleable__label.fitted {\n",
              "  color: var(--sklearn-color-text);\n",
              "  background-color: var(--sklearn-color-fitted-level-2);\n",
              "}\n",
              "\n",
              "/* Estimator label */\n",
              "\n",
              "#sk-container-id-4 div.sk-label label {\n",
              "  font-family: monospace;\n",
              "  font-weight: bold;\n",
              "  display: inline-block;\n",
              "  line-height: 1.2em;\n",
              "}\n",
              "\n",
              "#sk-container-id-4 div.sk-label-container {\n",
              "  text-align: center;\n",
              "}\n",
              "\n",
              "/* Estimator-specific */\n",
              "#sk-container-id-4 div.sk-estimator {\n",
              "  font-family: monospace;\n",
              "  border: 1px dotted var(--sklearn-color-border-box);\n",
              "  border-radius: 0.25em;\n",
              "  box-sizing: border-box;\n",
              "  margin-bottom: 0.5em;\n",
              "  /* unfitted */\n",
              "  background-color: var(--sklearn-color-unfitted-level-0);\n",
              "}\n",
              "\n",
              "#sk-container-id-4 div.sk-estimator.fitted {\n",
              "  /* fitted */\n",
              "  background-color: var(--sklearn-color-fitted-level-0);\n",
              "}\n",
              "\n",
              "/* on hover */\n",
              "#sk-container-id-4 div.sk-estimator:hover {\n",
              "  /* unfitted */\n",
              "  background-color: var(--sklearn-color-unfitted-level-2);\n",
              "}\n",
              "\n",
              "#sk-container-id-4 div.sk-estimator.fitted:hover {\n",
              "  /* fitted */\n",
              "  background-color: var(--sklearn-color-fitted-level-2);\n",
              "}\n",
              "\n",
              "/* Specification for estimator info (e.g. \"i\" and \"?\") */\n",
              "\n",
              "/* Common style for \"i\" and \"?\" */\n",
              "\n",
              ".sk-estimator-doc-link,\n",
              "a:link.sk-estimator-doc-link,\n",
              "a:visited.sk-estimator-doc-link {\n",
              "  float: right;\n",
              "  font-size: smaller;\n",
              "  line-height: 1em;\n",
              "  font-family: monospace;\n",
              "  background-color: var(--sklearn-color-background);\n",
              "  border-radius: 1em;\n",
              "  height: 1em;\n",
              "  width: 1em;\n",
              "  text-decoration: none !important;\n",
              "  margin-left: 0.5em;\n",
              "  text-align: center;\n",
              "  /* unfitted */\n",
              "  border: var(--sklearn-color-unfitted-level-1) 1pt solid;\n",
              "  color: var(--sklearn-color-unfitted-level-1);\n",
              "}\n",
              "\n",
              ".sk-estimator-doc-link.fitted,\n",
              "a:link.sk-estimator-doc-link.fitted,\n",
              "a:visited.sk-estimator-doc-link.fitted {\n",
              "  /* fitted */\n",
              "  border: var(--sklearn-color-fitted-level-1) 1pt solid;\n",
              "  color: var(--sklearn-color-fitted-level-1);\n",
              "}\n",
              "\n",
              "/* On hover */\n",
              "div.sk-estimator:hover .sk-estimator-doc-link:hover,\n",
              ".sk-estimator-doc-link:hover,\n",
              "div.sk-label-container:hover .sk-estimator-doc-link:hover,\n",
              ".sk-estimator-doc-link:hover {\n",
              "  /* unfitted */\n",
              "  background-color: var(--sklearn-color-unfitted-level-3);\n",
              "  color: var(--sklearn-color-background);\n",
              "  text-decoration: none;\n",
              "}\n",
              "\n",
              "div.sk-estimator.fitted:hover .sk-estimator-doc-link.fitted:hover,\n",
              ".sk-estimator-doc-link.fitted:hover,\n",
              "div.sk-label-container:hover .sk-estimator-doc-link.fitted:hover,\n",
              ".sk-estimator-doc-link.fitted:hover {\n",
              "  /* fitted */\n",
              "  background-color: var(--sklearn-color-fitted-level-3);\n",
              "  color: var(--sklearn-color-background);\n",
              "  text-decoration: none;\n",
              "}\n",
              "\n",
              "/* Span, style for the box shown on hovering the info icon */\n",
              ".sk-estimator-doc-link span {\n",
              "  display: none;\n",
              "  z-index: 9999;\n",
              "  position: relative;\n",
              "  font-weight: normal;\n",
              "  right: .2ex;\n",
              "  padding: .5ex;\n",
              "  margin: .5ex;\n",
              "  width: min-content;\n",
              "  min-width: 20ex;\n",
              "  max-width: 50ex;\n",
              "  color: var(--sklearn-color-text);\n",
              "  box-shadow: 2pt 2pt 4pt #999;\n",
              "  /* unfitted */\n",
              "  background: var(--sklearn-color-unfitted-level-0);\n",
              "  border: .5pt solid var(--sklearn-color-unfitted-level-3);\n",
              "}\n",
              "\n",
              ".sk-estimator-doc-link.fitted span {\n",
              "  /* fitted */\n",
              "  background: var(--sklearn-color-fitted-level-0);\n",
              "  border: var(--sklearn-color-fitted-level-3);\n",
              "}\n",
              "\n",
              ".sk-estimator-doc-link:hover span {\n",
              "  display: block;\n",
              "}\n",
              "\n",
              "/* \"?\"-specific style due to the `<a>` HTML tag */\n",
              "\n",
              "#sk-container-id-4 a.estimator_doc_link {\n",
              "  float: right;\n",
              "  font-size: 1rem;\n",
              "  line-height: 1em;\n",
              "  font-family: monospace;\n",
              "  background-color: var(--sklearn-color-background);\n",
              "  border-radius: 1rem;\n",
              "  height: 1rem;\n",
              "  width: 1rem;\n",
              "  text-decoration: none;\n",
              "  /* unfitted */\n",
              "  color: var(--sklearn-color-unfitted-level-1);\n",
              "  border: var(--sklearn-color-unfitted-level-1) 1pt solid;\n",
              "}\n",
              "\n",
              "#sk-container-id-4 a.estimator_doc_link.fitted {\n",
              "  /* fitted */\n",
              "  border: var(--sklearn-color-fitted-level-1) 1pt solid;\n",
              "  color: var(--sklearn-color-fitted-level-1);\n",
              "}\n",
              "\n",
              "/* On hover */\n",
              "#sk-container-id-4 a.estimator_doc_link:hover {\n",
              "  /* unfitted */\n",
              "  background-color: var(--sklearn-color-unfitted-level-3);\n",
              "  color: var(--sklearn-color-background);\n",
              "  text-decoration: none;\n",
              "}\n",
              "\n",
              "#sk-container-id-4 a.estimator_doc_link.fitted:hover {\n",
              "  /* fitted */\n",
              "  background-color: var(--sklearn-color-fitted-level-3);\n",
              "}\n",
              "</style><div id=\"sk-container-id-4\" class=\"sk-top-container\"><div class=\"sk-text-repr-fallback\"><pre>LinearRegression()</pre><b>In a Jupyter environment, please rerun this cell to show the HTML representation or trust the notebook. <br />On GitHub, the HTML representation is unable to render, please try loading this page with nbviewer.org.</b></div><div class=\"sk-container\" hidden><div class=\"sk-item\"><div class=\"sk-estimator fitted sk-toggleable\"><input class=\"sk-toggleable__control sk-hidden--visually\" id=\"sk-estimator-id-4\" type=\"checkbox\" checked><label for=\"sk-estimator-id-4\" class=\"sk-toggleable__label fitted sk-toggleable__label-arrow\"><div><div>LinearRegression</div></div><div><a class=\"sk-estimator-doc-link fitted\" rel=\"noreferrer\" target=\"_blank\" href=\"https://scikit-learn.org/1.6/modules/generated/sklearn.linear_model.LinearRegression.html\">?<span>Documentation for LinearRegression</span></a><span class=\"sk-estimator-doc-link fitted\">i<span>Fitted</span></span></div></label><div class=\"sk-toggleable__content fitted\"><pre>LinearRegression()</pre></div> </div></div></div></div>"
            ]
          },
          "metadata": {},
          "execution_count": 69
        }
      ]
    },
    {
      "cell_type": "code",
      "source": [
        "model.predict(X_test)"
      ],
      "metadata": {
        "colab": {
          "base_uri": "https://localhost:8080/"
        },
        "id": "j74k7WSTpXI6",
        "outputId": "909655a9-3b83-48f2-c72f-1cfdbff32c27"
      },
      "execution_count": null,
      "outputs": [
        {
          "output_type": "execute_result",
          "data": {
            "text/plain": [
              "array([7.43350288, 5.31549974, 5.42308809, 7.06669468, 5.58947301,\n",
              "       6.17137097, 6.67982119, 6.24484175, 6.30795368, 4.82768883,\n",
              "       8.007215  , 6.74523331, 6.70004208, 7.65773206, 6.19592003,\n",
              "       6.12262985, 5.72311839, 6.12802124, 6.0196999 , 6.02445679,\n",
              "       5.2071557 , 7.2251806 , 6.60083767, 9.48853869, 5.44216135,\n",
              "       4.69177448, 7.24822094, 7.37887773, 7.21324796, 5.5218043 ,\n",
              "       6.06279036, 6.53385883, 7.49228505, 5.36902666, 6.06653464,\n",
              "       4.43853681, 6.64123269, 6.67667015, 8.30434281, 5.14817792,\n",
              "       5.82863683, 6.90966555, 6.74887896])"
            ]
          },
          "metadata": {},
          "execution_count": 70
        }
      ]
    },
    {
      "cell_type": "code",
      "source": [
        "test_predictions = model.predict(X_test)"
      ],
      "metadata": {
        "id": "4z9_TzLDpW8q"
      },
      "execution_count": null,
      "outputs": []
    },
    {
      "cell_type": "code",
      "source": [
        "from sklearn.metrics import mean_absolute_error, mean_squared_error"
      ],
      "metadata": {
        "id": "WgFpOis5pbjO"
      },
      "execution_count": null,
      "outputs": []
    },
    {
      "cell_type": "code",
      "source": [
        "test_residuals = y_test - test_predictions"
      ],
      "metadata": {
        "id": "QdWTc9Z7qqY5"
      },
      "execution_count": null,
      "outputs": []
    },
    {
      "cell_type": "code",
      "source": [
        "# график остатков\n",
        "sns.scatterplot( x = y_test, y = test_residuals)\n",
        "plt.axhline( y = 0, color = 'r', ls = '--')"
      ],
      "metadata": {
        "colab": {
          "base_uri": "https://localhost:8080/",
          "height": 467
        },
        "id": "ZpZ3r0l7pbZ6",
        "outputId": "e5c5f4f6-efa3-4a39-cc23-e3379c6fd5e4"
      },
      "execution_count": null,
      "outputs": [
        {
          "output_type": "execute_result",
          "data": {
            "text/plain": [
              "<matplotlib.lines.Line2D at 0x7c79f8956510>"
            ]
          },
          "metadata": {},
          "execution_count": 74
        },
        {
          "output_type": "display_data",
          "data": {
            "text/plain": [
              "<Figure size 640x480 with 1 Axes>"
            ],
            "image/png": "[encoded data removed]"
          },
          "metadata": {}
        }
      ]
    },
    {
      "cell_type": "code",
      "source": [
        "# распределение остатков\n",
        "sns.displot(test_residuals, bins = 25, kde = True)"
      ],
      "metadata": {
        "colab": {
          "base_uri": "https://localhost:8080/",
          "height": 524
        },
        "id": "crfl2wOLquPB",
        "outputId": "bded5deb-f16f-49a0-bd6f-a3aa91e72045"
      },
      "execution_count": null,
      "outputs": [
        {
          "output_type": "execute_result",
          "data": {
            "text/plain": [
              "<seaborn.axisgrid.FacetGrid at 0x7c79f4ea9350>"
            ]
          },
          "metadata": {},
          "execution_count": 75
        },
        {
          "output_type": "display_data",
          "data": {
            "text/plain": [
              "<Figure size 500x500 with 1 Axes>"
            ],
            "image/png": "[encoded data removed]"
          },
          "metadata": {}
        }
      ]
    },
    {
      "cell_type": "code",
      "source": [
        "import scipy as sp"
      ],
      "metadata": {
        "id": "X4L2y5MRqymT"
      },
      "execution_count": null,
      "outputs": []
    },
    {
      "cell_type": "code",
      "source": [
        "# Создаём объект figure и оси для рисования графика\n",
        "fig, ax = plt.subplots(figsize=(6,8),dpi=100)\n",
        "_ = sp.stats.probplot(test_residuals, plot=ax)"
      ],
      "metadata": {
        "colab": {
          "base_uri": "https://localhost:8080/",
          "height": 718
        },
        "id": "T27zFayrqzHD",
        "outputId": "c0589d7f-b411-4687-a95e-8fa790685404"
      },
      "execution_count": null,
      "outputs": [
        {
          "output_type": "display_data",
          "data": {
            "text/plain": [
              "<Figure size 600x800 with 1 Axes>"
            ],
            "image/png": "[encoded data removed]"
          },
          "metadata": {}
        }
      ]
    },
    {
      "cell_type": "code",
      "source": [
        "final_model = LinearRegression()"
      ],
      "metadata": {
        "id": "nJwrMuqLrmE9"
      },
      "execution_count": null,
      "outputs": []
    },
    {
      "cell_type": "code",
      "source": [
        "X = data[['ИОК2']]\n",
        "y = data['Log(ВРП)']\n",
        "\n",
        "final_model.fit(X, y)\n"
      ],
      "metadata": {
        "colab": {
          "base_uri": "https://localhost:8080/",
          "height": 80
        },
        "id": "mAke2aU0rmCt",
        "outputId": "33123b73-67c4-4b28-ec2c-3b452b8f32ce"
      },
      "execution_count": null,
      "outputs": [
        {
          "output_type": "execute_result",
          "data": {
            "text/plain": [
              "LinearRegression()"
            ],
            "text/html": [
              "<style>#sk-container-id-5 {\n",
              "  /* Definition of color scheme common for light and dark mode */\n",
              "  --sklearn-color-text: #000;\n",
              "  --sklearn-color-text-muted: #666;\n",
              "  --sklearn-color-line: gray;\n",
              "  /* Definition of color scheme for unfitted estimators */\n",
              "  --sklearn-color-unfitted-level-0: #fff5e6;\n",
              "  --sklearn-color-unfitted-level-1: #f6e4d2;\n",
              "  --sklearn-color-unfitted-level-2: #ffe0b3;\n",
              "  --sklearn-color-unfitted-level-3: chocolate;\n",
              "  /* Definition of color scheme for fitted estimators */\n",
              "  --sklearn-color-fitted-level-0: #f0f8ff;\n",
              "  --sklearn-color-fitted-level-1: #d4ebff;\n",
              "  --sklearn-color-fitted-level-2: #b3dbfd;\n",
              "  --sklearn-color-fitted-level-3: cornflowerblue;\n",
              "\n",
              "  /* Specific color for light theme */\n",
              "  --sklearn-color-text-on-default-background: var(--sg-text-color, var(--theme-code-foreground, var(--jp-content-font-color1, black)));\n",
              "  --sklearn-color-background: var(--sg-background-color, var(--theme-background, var(--jp-layout-color0, white)));\n",
              "  --sklearn-color-border-box: var(--sg-text-color, var(--theme-code-foreground, var(--jp-content-font-color1, black)));\n",
              "  --sklearn-color-icon: #696969;\n",
              "\n",
              "  @media (prefers-color-scheme: dark) {\n",
              "    /* Redefinition of color scheme for dark theme */\n",
              "    --sklearn-color-text-on-default-background: var(--sg-text-color, var(--theme-code-foreground, var(--jp-content-font-color1, white)));\n",
              "    --sklearn-color-background: var(--sg-background-color, var(--theme-background, var(--jp-layout-color0, #111)));\n",
              "    --sklearn-color-border-box: var(--sg-text-color, var(--theme-code-foreground, var(--jp-content-font-color1, white)));\n",
              "    --sklearn-color-icon: #878787;\n",
              "  }\n",
              "}\n",
              "\n",
              "#sk-container-id-5 {\n",
              "  color: var(--sklearn-color-text);\n",
              "}\n",
              "\n",
              "#sk-container-id-5 pre {\n",
              "  padding: 0;\n",
              "}\n",
              "\n",
              "#sk-container-id-5 input.sk-hidden--visually {\n",
              "  border: 0;\n",
              "  clip: rect(1px 1px 1px 1px);\n",
              "  clip: rect(1px, 1px, 1px, 1px);\n",
              "  height: 1px;\n",
              "  margin: -1px;\n",
              "  overflow: hidden;\n",
              "  padding: 0;\n",
              "  position: absolute;\n",
              "  width: 1px;\n",
              "}\n",
              "\n",
              "#sk-container-id-5 div.sk-dashed-wrapped {\n",
              "  border: 1px dashed var(--sklearn-color-line);\n",
              "  margin: 0 0.4em 0.5em 0.4em;\n",
              "  box-sizing: border-box;\n",
              "  padding-bottom: 0.4em;\n",
              "  background-color: var(--sklearn-color-background);\n",
              "}\n",
              "\n",
              "#sk-container-id-5 div.sk-container {\n",
              "  /* jupyter's `normalize.less` sets `[hidden] { display: none; }`\n",
              "     but bootstrap.min.css set `[hidden] { display: none !important; }`\n",
              "     so we also need the `!important` here to be able to override the\n",
              "     default hidden behavior on the sphinx rendered scikit-learn.org.\n",
              "     See: https://github.com/scikit-learn/scikit-learn/issues/21755 */\n",
              "  display: inline-block !important;\n",
              "  position: relative;\n",
              "}\n",
              "\n",
              "#sk-container-id-5 div.sk-text-repr-fallback {\n",
              "  display: none;\n",
              "}\n",
              "\n",
              "div.sk-parallel-item,\n",
              "div.sk-serial,\n",
              "div.sk-item {\n",
              "  /* draw centered vertical line to link estimators */\n",
              "  background-image: linear-gradient(var(--sklearn-color-text-on-default-background), var(--sklearn-color-text-on-default-background));\n",
              "  background-size: 2px 100%;\n",
              "  background-repeat: no-repeat;\n",
              "  background-position: center center;\n",
              "}\n",
              "\n",
              "/* Parallel-specific style estimator block */\n",
              "\n",
              "#sk-container-id-5 div.sk-parallel-item::after {\n",
              "  content: \"\";\n",
              "  width: 100%;\n",
              "  border-bottom: 2px solid var(--sklearn-color-text-on-default-background);\n",
              "  flex-grow: 1;\n",
              "}\n",
              "\n",
              "#sk-container-id-5 div.sk-parallel {\n",
              "  display: flex;\n",
              "  align-items: stretch;\n",
              "  justify-content: center;\n",
              "  background-color: var(--sklearn-color-background);\n",
              "  position: relative;\n",
              "}\n",
              "\n",
              "#sk-container-id-5 div.sk-parallel-item {\n",
              "  display: flex;\n",
              "  flex-direction: column;\n",
              "}\n",
              "\n",
              "#sk-container-id-5 div.sk-parallel-item:first-child::after {\n",
              "  align-self: flex-end;\n",
              "  width: 50%;\n",
              "}\n",
              "\n",
              "#sk-container-id-5 div.sk-parallel-item:last-child::after {\n",
              "  align-self: flex-start;\n",
              "  width: 50%;\n",
              "}\n",
              "\n",
              "#sk-container-id-5 div.sk-parallel-item:only-child::after {\n",
              "  width: 0;\n",
              "}\n",
              "\n",
              "/* Serial-specific style estimator block */\n",
              "\n",
              "#sk-container-id-5 div.sk-serial {\n",
              "  display: flex;\n",
              "  flex-direction: column;\n",
              "  align-items: center;\n",
              "  background-color: var(--sklearn-color-background);\n",
              "  padding-right: 1em;\n",
              "  padding-left: 1em;\n",
              "}\n",
              "\n",
              "\n",
              "/* Toggleable style: style used for estimator/Pipeline/ColumnTransformer box that is\n",
              "clickable and can be expanded/collapsed.\n",
              "- Pipeline and ColumnTransformer use this feature and define the default style\n",
              "- Estimators will overwrite some part of the style using the `sk-estimator` class\n",
              "*/\n",
              "\n",
              "/* Pipeline and ColumnTransformer style (default) */\n",
              "\n",
              "#sk-container-id-5 div.sk-toggleable {\n",
              "  /* Default theme specific background. It is overwritten whether we have a\n",
              "  specific estimator or a Pipeline/ColumnTransformer */\n",
              "  background-color: var(--sklearn-color-background);\n",
              "}\n",
              "\n",
              "/* Toggleable label */\n",
              "#sk-container-id-5 label.sk-toggleable__label {\n",
              "  cursor: pointer;\n",
              "  display: flex;\n",
              "  width: 100%;\n",
              "  margin-bottom: 0;\n",
              "  padding: 0.5em;\n",
              "  box-sizing: border-box;\n",
              "  text-align: center;\n",
              "  align-items: start;\n",
              "  justify-content: space-between;\n",
              "  gap: 0.5em;\n",
              "}\n",
              "\n",
              "#sk-container-id-5 label.sk-toggleable__label .caption {\n",
              "  font-size: 0.6rem;\n",
              "  font-weight: lighter;\n",
              "  color: var(--sklearn-color-text-muted);\n",
              "}\n",
              "\n",
              "#sk-container-id-5 label.sk-toggleable__label-arrow:before {\n",
              "  /* Arrow on the left of the label */\n",
              "  content: \"▸\";\n",
              "  float: left;\n",
              "  margin-right: 0.25em;\n",
              "  color: var(--sklearn-color-icon);\n",
              "}\n",
              "\n",
              "#sk-container-id-5 label.sk-toggleable__label-arrow:hover:before {\n",
              "  color: var(--sklearn-color-text);\n",
              "}\n",
              "\n",
              "/* Toggleable content - dropdown */\n",
              "\n",
              "#sk-container-id-5 div.sk-toggleable__content {\n",
              "  max-height: 0;\n",
              "  max-width: 0;\n",
              "  overflow: hidden;\n",
              "  text-align: left;\n",
              "  /* unfitted */\n",
              "  background-color: var(--sklearn-color-unfitted-level-0);\n",
              "}\n",
              "\n",
              "#sk-container-id-5 div.sk-toggleable__content.fitted {\n",
              "  /* fitted */\n",
              "  background-color: var(--sklearn-color-fitted-level-0);\n",
              "}\n",
              "\n",
              "#sk-container-id-5 div.sk-toggleable__content pre {\n",
              "  margin: 0.2em;\n",
              "  border-radius: 0.25em;\n",
              "  color: var(--sklearn-color-text);\n",
              "  /* unfitted */\n",
              "  background-color: var(--sklearn-color-unfitted-level-0);\n",
              "}\n",
              "\n",
              "#sk-container-id-5 div.sk-toggleable__content.fitted pre {\n",
              "  /* unfitted */\n",
              "  background-color: var(--sklearn-color-fitted-level-0);\n",
              "}\n",
              "\n",
              "#sk-container-id-5 input.sk-toggleable__control:checked~div.sk-toggleable__content {\n",
              "  /* Expand drop-down */\n",
              "  max-height: 200px;\n",
              "  max-width: 100%;\n",
              "  overflow: auto;\n",
              "}\n",
              "\n",
              "#sk-container-id-5 input.sk-toggleable__control:checked~label.sk-toggleable__label-arrow:before {\n",
              "  content: \"▾\";\n",
              "}\n",
              "\n",
              "/* Pipeline/ColumnTransformer-specific style */\n",
              "\n",
              "#sk-container-id-5 div.sk-label input.sk-toggleable__control:checked~label.sk-toggleable__label {\n",
              "  color: var(--sklearn-color-text);\n",
              "  background-color: var(--sklearn-color-unfitted-level-2);\n",
              "}\n",
              "\n",
              "#sk-container-id-5 div.sk-label.fitted input.sk-toggleable__control:checked~label.sk-toggleable__label {\n",
              "  background-color: var(--sklearn-color-fitted-level-2);\n",
              "}\n",
              "\n",
              "/* Estimator-specific style */\n",
              "\n",
              "/* Colorize estimator box */\n",
              "#sk-container-id-5 div.sk-estimator input.sk-toggleable__control:checked~label.sk-toggleable__label {\n",
              "  /* unfitted */\n",
              "  background-color: var(--sklearn-color-unfitted-level-2);\n",
              "}\n",
              "\n",
              "#sk-container-id-5 div.sk-estimator.fitted input.sk-toggleable__control:checked~label.sk-toggleable__label {\n",
              "  /* fitted */\n",
              "  background-color: var(--sklearn-color-fitted-level-2);\n",
              "}\n",
              "\n",
              "#sk-container-id-5 div.sk-label label.sk-toggleable__label,\n",
              "#sk-container-id-5 div.sk-label label {\n",
              "  /* The background is the default theme color */\n",
              "  color: var(--sklearn-color-text-on-default-background);\n",
              "}\n",
              "\n",
              "/* On hover, darken the color of the background */\n",
              "#sk-container-id-5 div.sk-label:hover label.sk-toggleable__label {\n",
              "  color: var(--sklearn-color-text);\n",
              "  background-color: var(--sklearn-color-unfitted-level-2);\n",
              "}\n",
              "\n",
              "/* Label box, darken color on hover, fitted */\n",
              "#sk-container-id-5 div.sk-label.fitted:hover label.sk-toggleable__label.fitted {\n",
              "  color: var(--sklearn-color-text);\n",
              "  background-color: var(--sklearn-color-fitted-level-2);\n",
              "}\n",
              "\n",
              "/* Estimator label */\n",
              "\n",
              "#sk-container-id-5 div.sk-label label {\n",
              "  font-family: monospace;\n",
              "  font-weight: bold;\n",
              "  display: inline-block;\n",
              "  line-height: 1.2em;\n",
              "}\n",
              "\n",
              "#sk-container-id-5 div.sk-label-container {\n",
              "  text-align: center;\n",
              "}\n",
              "\n",
              "/* Estimator-specific */\n",
              "#sk-container-id-5 div.sk-estimator {\n",
              "  font-family: monospace;\n",
              "  border: 1px dotted var(--sklearn-color-border-box);\n",
              "  border-radius: 0.25em;\n",
              "  box-sizing: border-box;\n",
              "  margin-bottom: 0.5em;\n",
              "  /* unfitted */\n",
              "  background-color: var(--sklearn-color-unfitted-level-0);\n",
              "}\n",
              "\n",
              "#sk-container-id-5 div.sk-estimator.fitted {\n",
              "  /* fitted */\n",
              "  background-color: var(--sklearn-color-fitted-level-0);\n",
              "}\n",
              "\n",
              "/* on hover */\n",
              "#sk-container-id-5 div.sk-estimator:hover {\n",
              "  /* unfitted */\n",
              "  background-color: var(--sklearn-color-unfitted-level-2);\n",
              "}\n",
              "\n",
              "#sk-container-id-5 div.sk-estimator.fitted:hover {\n",
              "  /* fitted */\n",
              "  background-color: var(--sklearn-color-fitted-level-2);\n",
              "}\n",
              "\n",
              "/* Specification for estimator info (e.g. \"i\" and \"?\") */\n",
              "\n",
              "/* Common style for \"i\" and \"?\" */\n",
              "\n",
              ".sk-estimator-doc-link,\n",
              "a:link.sk-estimator-doc-link,\n",
              "a:visited.sk-estimator-doc-link {\n",
              "  float: right;\n",
              "  font-size: smaller;\n",
              "  line-height: 1em;\n",
              "  font-family: monospace;\n",
              "  background-color: var(--sklearn-color-background);\n",
              "  border-radius: 1em;\n",
              "  height: 1em;\n",
              "  width: 1em;\n",
              "  text-decoration: none !important;\n",
              "  margin-left: 0.5em;\n",
              "  text-align: center;\n",
              "  /* unfitted */\n",
              "  border: var(--sklearn-color-unfitted-level-1) 1pt solid;\n",
              "  color: var(--sklearn-color-unfitted-level-1);\n",
              "}\n",
              "\n",
              ".sk-estimator-doc-link.fitted,\n",
              "a:link.sk-estimator-doc-link.fitted,\n",
              "a:visited.sk-estimator-doc-link.fitted {\n",
              "  /* fitted */\n",
              "  border: var(--sklearn-color-fitted-level-1) 1pt solid;\n",
              "  color: var(--sklearn-color-fitted-level-1);\n",
              "}\n",
              "\n",
              "/* On hover */\n",
              "div.sk-estimator:hover .sk-estimator-doc-link:hover,\n",
              ".sk-estimator-doc-link:hover,\n",
              "div.sk-label-container:hover .sk-estimator-doc-link:hover,\n",
              ".sk-estimator-doc-link:hover {\n",
              "  /* unfitted */\n",
              "  background-color: var(--sklearn-color-unfitted-level-3);\n",
              "  color: var(--sklearn-color-background);\n",
              "  text-decoration: none;\n",
              "}\n",
              "\n",
              "div.sk-estimator.fitted:hover .sk-estimator-doc-link.fitted:hover,\n",
              ".sk-estimator-doc-link.fitted:hover,\n",
              "div.sk-label-container:hover .sk-estimator-doc-link.fitted:hover,\n",
              ".sk-estimator-doc-link.fitted:hover {\n",
              "  /* fitted */\n",
              "  background-color: var(--sklearn-color-fitted-level-3);\n",
              "  color: var(--sklearn-color-background);\n",
              "  text-decoration: none;\n",
              "}\n",
              "\n",
              "/* Span, style for the box shown on hovering the info icon */\n",
              ".sk-estimator-doc-link span {\n",
              "  display: none;\n",
              "  z-index: 9999;\n",
              "  position: relative;\n",
              "  font-weight: normal;\n",
              "  right: .2ex;\n",
              "  padding: .5ex;\n",
              "  margin: .5ex;\n",
              "  width: min-content;\n",
              "  min-width: 20ex;\n",
              "  max-width: 50ex;\n",
              "  color: var(--sklearn-color-text);\n",
              "  box-shadow: 2pt 2pt 4pt #999;\n",
              "  /* unfitted */\n",
              "  background: var(--sklearn-color-unfitted-level-0);\n",
              "  border: .5pt solid var(--sklearn-color-unfitted-level-3);\n",
              "}\n",
              "\n",
              ".sk-estimator-doc-link.fitted span {\n",
              "  /* fitted */\n",
              "  background: var(--sklearn-color-fitted-level-0);\n",
              "  border: var(--sklearn-color-fitted-level-3);\n",
              "}\n",
              "\n",
              ".sk-estimator-doc-link:hover span {\n",
              "  display: block;\n",
              "}\n",
              "\n",
              "/* \"?\"-specific style due to the `<a>` HTML tag */\n",
              "\n",
              "#sk-container-id-5 a.estimator_doc_link {\n",
              "  float: right;\n",
              "  font-size: 1rem;\n",
              "  line-height: 1em;\n",
              "  font-family: monospace;\n",
              "  background-color: var(--sklearn-color-background);\n",
              "  border-radius: 1rem;\n",
              "  height: 1rem;\n",
              "  width: 1rem;\n",
              "  text-decoration: none;\n",
              "  /* unfitted */\n",
              "  color: var(--sklearn-color-unfitted-level-1);\n",
              "  border: var(--sklearn-color-unfitted-level-1) 1pt solid;\n",
              "}\n",
              "\n",
              "#sk-container-id-5 a.estimator_doc_link.fitted {\n",
              "  /* fitted */\n",
              "  border: var(--sklearn-color-fitted-level-1) 1pt solid;\n",
              "  color: var(--sklearn-color-fitted-level-1);\n",
              "}\n",
              "\n",
              "/* On hover */\n",
              "#sk-container-id-5 a.estimator_doc_link:hover {\n",
              "  /* unfitted */\n",
              "  background-color: var(--sklearn-color-unfitted-level-3);\n",
              "  color: var(--sklearn-color-background);\n",
              "  text-decoration: none;\n",
              "}\n",
              "\n",
              "#sk-container-id-5 a.estimator_doc_link.fitted:hover {\n",
              "  /* fitted */\n",
              "  background-color: var(--sklearn-color-fitted-level-3);\n",
              "}\n",
              "</style><div id=\"sk-container-id-5\" class=\"sk-top-container\"><div class=\"sk-text-repr-fallback\"><pre>LinearRegression()</pre><b>In a Jupyter environment, please rerun this cell to show the HTML representation or trust the notebook. <br />On GitHub, the HTML representation is unable to render, please try loading this page with nbviewer.org.</b></div><div class=\"sk-container\" hidden><div class=\"sk-item\"><div class=\"sk-estimator fitted sk-toggleable\"><input class=\"sk-toggleable__control sk-hidden--visually\" id=\"sk-estimator-id-5\" type=\"checkbox\" checked><label for=\"sk-estimator-id-5\" class=\"sk-toggleable__label fitted sk-toggleable__label-arrow\"><div><div>LinearRegression</div></div><div><a class=\"sk-estimator-doc-link fitted\" rel=\"noreferrer\" target=\"_blank\" href=\"https://scikit-learn.org/1.6/modules/generated/sklearn.linear_model.LinearRegression.html\">?<span>Documentation for LinearRegression</span></a><span class=\"sk-estimator-doc-link fitted\">i<span>Fitted</span></span></div></label><div class=\"sk-toggleable__content fitted\"><pre>LinearRegression()</pre></div> </div></div></div></div>"
            ]
          },
          "metadata": {},
          "execution_count": 82
        }
      ]
    },
    {
      "cell_type": "code",
      "source": [
        "final_model.coef_"
      ],
      "metadata": {
        "colab": {
          "base_uri": "https://localhost:8080/"
        },
        "id": "g3xZ5w0grl_f",
        "outputId": "a621c693-cd88-409f-db04-ae55e0ed175e"
      },
      "execution_count": null,
      "outputs": [
        {
          "output_type": "execute_result",
          "data": {
            "text/plain": [
              "array([0.97750911])"
            ]
          },
          "metadata": {},
          "execution_count": 83
        }
      ]
    },
    {
      "cell_type": "code",
      "source": [
        "y_hat = final_model.predict(X)"
      ],
      "metadata": {
        "id": "1H_Xse02rl6U"
      },
      "execution_count": null,
      "outputs": []
    },
    {
      "cell_type": "code",
      "source": [
        "fig,axes = plt.subplots(nrows=1,ncols=3,figsize=(16,6))\n",
        "\n",
        "axes[0].plot(data['ИОК2'],data['Log(ВРП)'],'o')\n",
        "axes[0].plot(data['ИОК2'],y_hat,'o',color='red')\n",
        "axes[0].set_ylabel(\"Log(ВРП)\")\n",
        "axes[0].set_title(\"ИОК2\")\n",
        "\n",
        "axes[1].plot(data['ВСМ2'],data['Log(ВРП)'],'o')\n",
        "axes[1].plot(data['ВСМ2'],y_hat,'o',color='red')\n",
        "axes[1].set_title(\"ВСМ2\")\n",
        "axes[1].set_ylabel(\"Log(ВРП)\")\n",
        "\n",
        "axes[2].plot(data['РДН'],data['Log(ВРП)'],'o')\n",
        "axes[2].plot(data['РДН'],y_hat,'o',color='red')\n",
        "axes[2].set_title(\"РДН\");\n",
        "axes[2].set_ylabel(\"Log(ВРП)\")\n",
        "plt.tight_layout();\n"
      ],
      "metadata": {
        "colab": {
          "base_uri": "https://localhost:8080/",
          "height": 250
        },
        "id": "A19xD4R-re0q",
        "outputId": "57848625-639f-45aa-a8df-8e75e4cbb078"
      },
      "execution_count": null,
      "outputs": [
        {
          "output_type": "display_data",
          "data": {
            "text/plain": [
              "<Figure size 1600x600 with 3 Axes>"
            ],
            "image/png": "[encoded data removed]"
          },
          "metadata": {}
        }
      ]
    }
  ]
}